{
 "cells": [
  {
   "cell_type": "code",
   "execution_count": 1,
   "id": "0ec78c4c",
   "metadata": {
    "_cell_guid": "b1076dfc-b9ad-4769-8c92-a6c4dae69d19",
    "_uuid": "8f2839f25d086af736a60e9eeb907d3b93b6e0e5",
    "execution": {
     "iopub.execute_input": "2023-10-11T06:21:33.030201Z",
     "iopub.status.busy": "2023-10-11T06:21:33.029172Z",
     "iopub.status.idle": "2023-10-11T06:21:33.487836Z",
     "shell.execute_reply": "2023-10-11T06:21:33.486750Z"
    },
    "papermill": {
     "duration": 0.492091,
     "end_time": "2023-10-11T06:21:33.490458",
     "exception": false,
     "start_time": "2023-10-11T06:21:32.998367",
     "status": "completed"
    },
    "tags": []
   },
   "outputs": [
    {
     "name": "stdout",
     "output_type": "stream",
     "text": [
      "/kaggle/input/employee-dataset/Employee.csv\n"
     ]
    }
   ],
   "source": [
    "# This Python 3 environment comes with many helpful analytics libraries installed\n",
    "# It is defined by the kaggle/python Docker image: https://github.com/kaggle/docker-python\n",
    "# For example, here's several helpful packages to load\n",
    "\n",
    "import numpy as np # linear algebra\n",
    "import pandas as pd # data processing, CSV file I/O (e.g. pd.read_csv)\n",
    "\n",
    "# Input data files are available in the read-only \"../input/\" directory\n",
    "# For example, running this (by clicking run or pressing Shift+Enter) will list all files under the input directory\n",
    "\n",
    "import os\n",
    "for dirname, _, filenames in os.walk('/kaggle/input'):\n",
    "    for filename in filenames:\n",
    "        print(os.path.join(dirname, filename))\n",
    "\n",
    "# You can write up to 20GB to the current directory (/kaggle/working/) that gets preserved as output when you create a version using \"Save & Run All\" \n",
    "# You can also write temporary files to /kaggle/temp/, but they won't be saved outside of the current session"
   ]
  },
  {
   "cell_type": "markdown",
   "id": "60962331",
   "metadata": {
    "papermill": {
     "duration": 0.026064,
     "end_time": "2023-10-11T06:21:33.556419",
     "exception": false,
     "start_time": "2023-10-11T06:21:33.530355",
     "status": "completed"
    },
    "tags": []
   },
   "source": [
    "# **Import all Essential Libraries**"
   ]
  },
  {
   "cell_type": "code",
   "execution_count": 1,
   "id": "312ee65b",
   "metadata": {
    "execution": {
     "iopub.execute_input": "2023-10-11T06:21:33.720142Z",
     "iopub.status.busy": "2023-10-11T06:21:33.719529Z",
     "iopub.status.idle": "2023-10-11T06:21:36.164395Z",
     "shell.execute_reply": "2023-10-11T06:21:36.162952Z"
    },
    "papermill": {
     "duration": 2.58216,
     "end_time": "2023-10-11T06:21:36.166995",
     "exception": false,
     "start_time": "2023-10-11T06:21:33.584835",
     "status": "completed"
    },
    "tags": []
   },
   "outputs": [],
   "source": [
    "import pandas as pd\n",
    "import numpy as np\n",
    "from matplotlib import pyplot as plt\n",
    "%matplotlib inline\n",
    "import seaborn as sns\n",
    "from sklearn.preprocessing import LabelEncoder\n",
    "from sklearn.linear_model import LogisticRegression\n",
    "from sklearn.ensemble import RandomForestClassifier\n",
    "from sklearn.tree import DecisionTreeClassifier\n",
    "from sklearn.model_selection import train_test_split\n",
    "from sklearn.model_selection import GridSearchCV\n",
    "from sklearn.naive_bayes import GaussianNB\n",
    "from sklearn.naive_bayes import MultinomialNB\n",
    "from sklearn import svm"
   ]
  },
  {
   "cell_type": "markdown",
   "id": "e183e9ac",
   "metadata": {
    "papermill": {
     "duration": 0.023384,
     "end_time": "2023-10-11T06:21:36.214684",
     "exception": false,
     "start_time": "2023-10-11T06:21:36.191300",
     "status": "completed"
    },
    "tags": []
   },
   "source": [
    "# Importing CSV File"
   ]
  },
  {
   "cell_type": "code",
   "execution_count": 4,
   "id": "cfacaa02",
   "metadata": {
    "scrolled": true
   },
   "outputs": [
    {
     "data": {
      "text/html": [
       "<div>\n",
       "<style scoped>\n",
       "    .dataframe tbody tr th:only-of-type {\n",
       "        vertical-align: middle;\n",
       "    }\n",
       "\n",
       "    .dataframe tbody tr th {\n",
       "        vertical-align: top;\n",
       "    }\n",
       "\n",
       "    .dataframe thead th {\n",
       "        text-align: right;\n",
       "    }\n",
       "</style>\n",
       "<table border=\"1\" class=\"dataframe\">\n",
       "  <thead>\n",
       "    <tr style=\"text-align: right;\">\n",
       "      <th></th>\n",
       "      <th>Education</th>\n",
       "      <th>JoiningYear</th>\n",
       "      <th>City</th>\n",
       "      <th>PaymentTier</th>\n",
       "      <th>Age</th>\n",
       "      <th>Gender</th>\n",
       "      <th>EverBenched</th>\n",
       "      <th>ExperienceInCurrentDomain</th>\n",
       "      <th>LeaveOrNot</th>\n",
       "    </tr>\n",
       "  </thead>\n",
       "  <tbody>\n",
       "    <tr>\n",
       "      <th>0</th>\n",
       "      <td>Bachelors</td>\n",
       "      <td>2017</td>\n",
       "      <td>Bangalore</td>\n",
       "      <td>3</td>\n",
       "      <td>34</td>\n",
       "      <td>Male</td>\n",
       "      <td>No</td>\n",
       "      <td>0</td>\n",
       "      <td>0</td>\n",
       "    </tr>\n",
       "    <tr>\n",
       "      <th>1</th>\n",
       "      <td>Bachelors</td>\n",
       "      <td>2013</td>\n",
       "      <td>Pune</td>\n",
       "      <td>1</td>\n",
       "      <td>28</td>\n",
       "      <td>Female</td>\n",
       "      <td>No</td>\n",
       "      <td>3</td>\n",
       "      <td>1</td>\n",
       "    </tr>\n",
       "    <tr>\n",
       "      <th>2</th>\n",
       "      <td>Bachelors</td>\n",
       "      <td>2014</td>\n",
       "      <td>New Delhi</td>\n",
       "      <td>3</td>\n",
       "      <td>38</td>\n",
       "      <td>Female</td>\n",
       "      <td>No</td>\n",
       "      <td>2</td>\n",
       "      <td>0</td>\n",
       "    </tr>\n",
       "    <tr>\n",
       "      <th>3</th>\n",
       "      <td>Masters</td>\n",
       "      <td>2016</td>\n",
       "      <td>Bangalore</td>\n",
       "      <td>3</td>\n",
       "      <td>27</td>\n",
       "      <td>Male</td>\n",
       "      <td>No</td>\n",
       "      <td>5</td>\n",
       "      <td>1</td>\n",
       "    </tr>\n",
       "    <tr>\n",
       "      <th>4</th>\n",
       "      <td>Masters</td>\n",
       "      <td>2017</td>\n",
       "      <td>Pune</td>\n",
       "      <td>3</td>\n",
       "      <td>24</td>\n",
       "      <td>Male</td>\n",
       "      <td>Yes</td>\n",
       "      <td>2</td>\n",
       "      <td>1</td>\n",
       "    </tr>\n",
       "  </tbody>\n",
       "</table>\n",
       "</div>"
      ],
      "text/plain": [
       "   Education  JoiningYear       City  PaymentTier  Age  Gender EverBenched  \\\n",
       "0  Bachelors         2017  Bangalore            3   34    Male          No   \n",
       "1  Bachelors         2013       Pune            1   28  Female          No   \n",
       "2  Bachelors         2014  New Delhi            3   38  Female          No   \n",
       "3    Masters         2016  Bangalore            3   27    Male          No   \n",
       "4    Masters         2017       Pune            3   24    Male         Yes   \n",
       "\n",
       "   ExperienceInCurrentDomain  LeaveOrNot  \n",
       "0                          0           0  \n",
       "1                          3           1  \n",
       "2                          2           0  \n",
       "3                          5           1  \n",
       "4                          2           1  "
      ]
     },
     "execution_count": 4,
     "metadata": {},
     "output_type": "execute_result"
    }
   ],
   "source": [
    "data = pd.read_csv(\"Employee - Employee.csv.csv\")\n",
    "data.head()"
   ]
  },
  {
   "cell_type": "markdown",
   "id": "df36b5ed",
   "metadata": {},
   "source": [
    "## describe your file"
   ]
  },
  {
   "cell_type": "code",
   "execution_count": 6,
   "id": "125135f4",
   "metadata": {},
   "outputs": [
    {
     "data": {
      "text/html": [
       "<div>\n",
       "<style scoped>\n",
       "    .dataframe tbody tr th:only-of-type {\n",
       "        vertical-align: middle;\n",
       "    }\n",
       "\n",
       "    .dataframe tbody tr th {\n",
       "        vertical-align: top;\n",
       "    }\n",
       "\n",
       "    .dataframe thead th {\n",
       "        text-align: right;\n",
       "    }\n",
       "</style>\n",
       "<table border=\"1\" class=\"dataframe\">\n",
       "  <thead>\n",
       "    <tr style=\"text-align: right;\">\n",
       "      <th></th>\n",
       "      <th>JoiningYear</th>\n",
       "      <th>PaymentTier</th>\n",
       "      <th>Age</th>\n",
       "      <th>ExperienceInCurrentDomain</th>\n",
       "      <th>LeaveOrNot</th>\n",
       "    </tr>\n",
       "  </thead>\n",
       "  <tbody>\n",
       "    <tr>\n",
       "      <th>count</th>\n",
       "      <td>4653.000000</td>\n",
       "      <td>4653.000000</td>\n",
       "      <td>4653.000000</td>\n",
       "      <td>4653.000000</td>\n",
       "      <td>4653.000000</td>\n",
       "    </tr>\n",
       "    <tr>\n",
       "      <th>mean</th>\n",
       "      <td>2015.062970</td>\n",
       "      <td>2.698259</td>\n",
       "      <td>29.393295</td>\n",
       "      <td>2.905652</td>\n",
       "      <td>0.343864</td>\n",
       "    </tr>\n",
       "    <tr>\n",
       "      <th>std</th>\n",
       "      <td>1.863377</td>\n",
       "      <td>0.561435</td>\n",
       "      <td>4.826087</td>\n",
       "      <td>1.558240</td>\n",
       "      <td>0.475047</td>\n",
       "    </tr>\n",
       "    <tr>\n",
       "      <th>min</th>\n",
       "      <td>2012.000000</td>\n",
       "      <td>1.000000</td>\n",
       "      <td>22.000000</td>\n",
       "      <td>0.000000</td>\n",
       "      <td>0.000000</td>\n",
       "    </tr>\n",
       "    <tr>\n",
       "      <th>25%</th>\n",
       "      <td>2013.000000</td>\n",
       "      <td>3.000000</td>\n",
       "      <td>26.000000</td>\n",
       "      <td>2.000000</td>\n",
       "      <td>0.000000</td>\n",
       "    </tr>\n",
       "    <tr>\n",
       "      <th>50%</th>\n",
       "      <td>2015.000000</td>\n",
       "      <td>3.000000</td>\n",
       "      <td>28.000000</td>\n",
       "      <td>3.000000</td>\n",
       "      <td>0.000000</td>\n",
       "    </tr>\n",
       "    <tr>\n",
       "      <th>75%</th>\n",
       "      <td>2017.000000</td>\n",
       "      <td>3.000000</td>\n",
       "      <td>32.000000</td>\n",
       "      <td>4.000000</td>\n",
       "      <td>1.000000</td>\n",
       "    </tr>\n",
       "    <tr>\n",
       "      <th>max</th>\n",
       "      <td>2018.000000</td>\n",
       "      <td>3.000000</td>\n",
       "      <td>41.000000</td>\n",
       "      <td>7.000000</td>\n",
       "      <td>1.000000</td>\n",
       "    </tr>\n",
       "  </tbody>\n",
       "</table>\n",
       "</div>"
      ],
      "text/plain": [
       "       JoiningYear  PaymentTier          Age  ExperienceInCurrentDomain  \\\n",
       "count  4653.000000  4653.000000  4653.000000                4653.000000   \n",
       "mean   2015.062970     2.698259    29.393295                   2.905652   \n",
       "std       1.863377     0.561435     4.826087                   1.558240   \n",
       "min    2012.000000     1.000000    22.000000                   0.000000   \n",
       "25%    2013.000000     3.000000    26.000000                   2.000000   \n",
       "50%    2015.000000     3.000000    28.000000                   3.000000   \n",
       "75%    2017.000000     3.000000    32.000000                   4.000000   \n",
       "max    2018.000000     3.000000    41.000000                   7.000000   \n",
       "\n",
       "        LeaveOrNot  \n",
       "count  4653.000000  \n",
       "mean      0.343864  \n",
       "std       0.475047  \n",
       "min       0.000000  \n",
       "25%       0.000000  \n",
       "50%       0.000000  \n",
       "75%       1.000000  \n",
       "max       1.000000  "
      ]
     },
     "execution_count": 6,
     "metadata": {},
     "output_type": "execute_result"
    }
   ],
   "source": [
    "data.describe()"
   ]
  },
  {
   "cell_type": "markdown",
   "id": "c1eaf434",
   "metadata": {
    "papermill": {
     "duration": 0.025049,
     "end_time": "2023-10-11T06:21:36.545828",
     "exception": false,
     "start_time": "2023-10-11T06:21:36.520779",
     "status": "completed"
    },
    "tags": []
   },
   "source": [
    "**Here we check the datatypes of each column or each entity, for better understand of what a column depreives \n",
    "Moreover, the data types give us the better understanding to formulate entities.**"
   ]
  },
  {
   "cell_type": "markdown",
   "id": "88046a44",
   "metadata": {
    "papermill": {
     "duration": 0.024417,
     "end_time": "2023-10-11T06:21:36.678826",
     "exception": false,
     "start_time": "2023-10-11T06:21:36.654409",
     "status": "completed"
    },
    "tags": []
   },
   "source": [
    "**It is a good practice to check your data before any visualization or training for any null values.**"
   ]
  },
  {
   "cell_type": "code",
   "execution_count": 8,
   "id": "cca6c33d",
   "metadata": {},
   "outputs": [
    {
     "data": {
      "text/plain": [
       "Education                    0\n",
       "JoiningYear                  0\n",
       "City                         0\n",
       "PaymentTier                  0\n",
       "Age                          0\n",
       "Gender                       0\n",
       "EverBenched                  0\n",
       "ExperienceInCurrentDomain    0\n",
       "LeaveOrNot                   0\n",
       "dtype: int64"
      ]
     },
     "execution_count": 8,
     "metadata": {},
     "output_type": "execute_result"
    }
   ],
   "source": [
    "data.isnull().sum()"
   ]
  },
  {
   "cell_type": "markdown",
   "id": "cddd7bd8",
   "metadata": {
    "papermill": {
     "duration": 0.02515,
     "end_time": "2023-10-11T06:21:36.729049",
     "exception": false,
     "start_time": "2023-10-11T06:21:36.703899",
     "status": "completed"
    },
    "tags": []
   },
   "source": [
    "**This gives the some last rows of dataset**"
   ]
  },
  {
   "cell_type": "code",
   "execution_count": 9,
   "id": "7657b60d",
   "metadata": {
    "execution": {
     "iopub.execute_input": "2023-10-11T06:21:36.780613Z",
     "iopub.status.busy": "2023-10-11T06:21:36.780232Z",
     "iopub.status.idle": "2023-10-11T06:21:36.793807Z",
     "shell.execute_reply": "2023-10-11T06:21:36.792561Z"
    },
    "papermill": {
     "duration": 0.04197,
     "end_time": "2023-10-11T06:21:36.795967",
     "exception": false,
     "start_time": "2023-10-11T06:21:36.753997",
     "status": "completed"
    },
    "tags": []
   },
   "outputs": [
    {
     "data": {
      "text/html": [
       "<div>\n",
       "<style scoped>\n",
       "    .dataframe tbody tr th:only-of-type {\n",
       "        vertical-align: middle;\n",
       "    }\n",
       "\n",
       "    .dataframe tbody tr th {\n",
       "        vertical-align: top;\n",
       "    }\n",
       "\n",
       "    .dataframe thead th {\n",
       "        text-align: right;\n",
       "    }\n",
       "</style>\n",
       "<table border=\"1\" class=\"dataframe\">\n",
       "  <thead>\n",
       "    <tr style=\"text-align: right;\">\n",
       "      <th></th>\n",
       "      <th>Education</th>\n",
       "      <th>JoiningYear</th>\n",
       "      <th>City</th>\n",
       "      <th>PaymentTier</th>\n",
       "      <th>Age</th>\n",
       "      <th>Gender</th>\n",
       "      <th>EverBenched</th>\n",
       "      <th>ExperienceInCurrentDomain</th>\n",
       "      <th>LeaveOrNot</th>\n",
       "    </tr>\n",
       "  </thead>\n",
       "  <tbody>\n",
       "    <tr>\n",
       "      <th>4648</th>\n",
       "      <td>Bachelors</td>\n",
       "      <td>2013</td>\n",
       "      <td>Bangalore</td>\n",
       "      <td>3</td>\n",
       "      <td>26</td>\n",
       "      <td>Female</td>\n",
       "      <td>No</td>\n",
       "      <td>4</td>\n",
       "      <td>0</td>\n",
       "    </tr>\n",
       "    <tr>\n",
       "      <th>4649</th>\n",
       "      <td>Masters</td>\n",
       "      <td>2013</td>\n",
       "      <td>Pune</td>\n",
       "      <td>2</td>\n",
       "      <td>37</td>\n",
       "      <td>Male</td>\n",
       "      <td>No</td>\n",
       "      <td>2</td>\n",
       "      <td>1</td>\n",
       "    </tr>\n",
       "    <tr>\n",
       "      <th>4650</th>\n",
       "      <td>Masters</td>\n",
       "      <td>2018</td>\n",
       "      <td>New Delhi</td>\n",
       "      <td>3</td>\n",
       "      <td>27</td>\n",
       "      <td>Male</td>\n",
       "      <td>No</td>\n",
       "      <td>5</td>\n",
       "      <td>1</td>\n",
       "    </tr>\n",
       "    <tr>\n",
       "      <th>4651</th>\n",
       "      <td>Bachelors</td>\n",
       "      <td>2012</td>\n",
       "      <td>Bangalore</td>\n",
       "      <td>3</td>\n",
       "      <td>30</td>\n",
       "      <td>Male</td>\n",
       "      <td>Yes</td>\n",
       "      <td>2</td>\n",
       "      <td>0</td>\n",
       "    </tr>\n",
       "    <tr>\n",
       "      <th>4652</th>\n",
       "      <td>Bachelors</td>\n",
       "      <td>2015</td>\n",
       "      <td>Bangalore</td>\n",
       "      <td>3</td>\n",
       "      <td>33</td>\n",
       "      <td>Male</td>\n",
       "      <td>Yes</td>\n",
       "      <td>4</td>\n",
       "      <td>0</td>\n",
       "    </tr>\n",
       "  </tbody>\n",
       "</table>\n",
       "</div>"
      ],
      "text/plain": [
       "      Education  JoiningYear       City  PaymentTier  Age  Gender EverBenched  \\\n",
       "4648  Bachelors         2013  Bangalore            3   26  Female          No   \n",
       "4649    Masters         2013       Pune            2   37    Male          No   \n",
       "4650    Masters         2018  New Delhi            3   27    Male          No   \n",
       "4651  Bachelors         2012  Bangalore            3   30    Male         Yes   \n",
       "4652  Bachelors         2015  Bangalore            3   33    Male         Yes   \n",
       "\n",
       "      ExperienceInCurrentDomain  LeaveOrNot  \n",
       "4648                          4           0  \n",
       "4649                          2           1  \n",
       "4650                          5           1  \n",
       "4651                          2           0  \n",
       "4652                          4           0  "
      ]
     },
     "execution_count": 9,
     "metadata": {},
     "output_type": "execute_result"
    }
   ],
   "source": [
    "data.tail()"
   ]
  },
  {
   "cell_type": "markdown",
   "id": "98b79360",
   "metadata": {
    "papermill": {
     "duration": 0.025307,
     "end_time": "2023-10-11T06:21:36.846468",
     "exception": false,
     "start_time": "2023-10-11T06:21:36.821161",
     "status": "completed"
    },
    "tags": []
   },
   "source": [
    "**This will return all columns name**"
   ]
  },
  {
   "cell_type": "code",
   "execution_count": 17,
   "id": "4dfc5e71",
   "metadata": {
    "execution": {
     "iopub.execute_input": "2023-10-11T06:21:36.897716Z",
     "iopub.status.busy": "2023-10-11T06:21:36.897226Z",
     "iopub.status.idle": "2023-10-11T06:21:36.905578Z",
     "shell.execute_reply": "2023-10-11T06:21:36.904339Z"
    },
    "papermill": {
     "duration": 0.036758,
     "end_time": "2023-10-11T06:21:36.907801",
     "exception": false,
     "start_time": "2023-10-11T06:21:36.871043",
     "status": "completed"
    },
    "tags": []
   },
   "outputs": [
    {
     "data": {
      "text/plain": [
       "Index(['Education', 'JoiningYear', 'City', 'PaymentTier', 'Age', 'Gender',\n",
       "       'EverBenched', 'ExperienceInCurrentDomain', 'LeaveOrNot'],\n",
       "      dtype='object')"
      ]
     },
     "execution_count": 17,
     "metadata": {},
     "output_type": "execute_result"
    }
   ],
   "source": [
    "data.columns\n"
   ]
  },
  {
   "cell_type": "markdown",
   "id": "db58217d",
   "metadata": {
    "papermill": {
     "duration": 0.024155,
     "end_time": "2023-10-11T06:21:36.958347",
     "exception": false,
     "start_time": "2023-10-11T06:21:36.934192",
     "status": "completed"
    },
    "tags": []
   },
   "source": [
    "**Tells datatype of each column**"
   ]
  },
  {
   "cell_type": "code",
   "execution_count": 16,
   "id": "daa6525c",
   "metadata": {},
   "outputs": [
    {
     "data": {
      "text/plain": [
       "Education                    object\n",
       "JoiningYear                   int64\n",
       "City                         object\n",
       "PaymentTier                   int64\n",
       "Age                           int64\n",
       "Gender                       object\n",
       "EverBenched                  object\n",
       "ExperienceInCurrentDomain     int64\n",
       "LeaveOrNot                    int64\n",
       "dtype: object"
      ]
     },
     "execution_count": 16,
     "metadata": {},
     "output_type": "execute_result"
    }
   ],
   "source": [
    "data.dtypes"
   ]
  },
  {
   "cell_type": "markdown",
   "id": "3f6ab254",
   "metadata": {
    "papermill": {
     "duration": 0.024691,
     "end_time": "2023-10-11T06:21:37.075460",
     "exception": false,
     "start_time": "2023-10-11T06:21:37.050769",
     "status": "completed"
    },
    "tags": []
   },
   "source": [
    "**Provides number of unique value of all columns**"
   ]
  },
  {
   "cell_type": "code",
   "execution_count": 18,
   "id": "370edcdb",
   "metadata": {},
   "outputs": [
    {
     "data": {
      "text/plain": [
       "Education                     3\n",
       "JoiningYear                   7\n",
       "City                          3\n",
       "PaymentTier                   3\n",
       "Age                          20\n",
       "Gender                        2\n",
       "EverBenched                   2\n",
       "ExperienceInCurrentDomain     8\n",
       "LeaveOrNot                    2\n",
       "dtype: int64"
      ]
     },
     "execution_count": 18,
     "metadata": {},
     "output_type": "execute_result"
    }
   ],
   "source": [
    "data.nunique()"
   ]
  },
  {
   "cell_type": "markdown",
   "id": "9f8d29dd",
   "metadata": {
    "papermill": {
     "duration": 0.02611,
     "end_time": "2023-10-11T06:21:37.197700",
     "exception": false,
     "start_time": "2023-10-11T06:21:37.171590",
     "status": "completed"
    },
    "tags": []
   },
   "source": [
    "# To check Is there any null values in the dataset"
   ]
  },
  {
   "cell_type": "code",
   "execution_count": 19,
   "id": "c1765705",
   "metadata": {
    "execution": {
     "iopub.execute_input": "2023-10-11T06:21:37.253593Z",
     "iopub.status.busy": "2023-10-11T06:21:37.253133Z",
     "iopub.status.idle": "2023-10-11T06:21:37.262067Z",
     "shell.execute_reply": "2023-10-11T06:21:37.261266Z"
    },
    "papermill": {
     "duration": 0.04044,
     "end_time": "2023-10-11T06:21:37.264240",
     "exception": false,
     "start_time": "2023-10-11T06:21:37.223800",
     "status": "completed"
    },
    "tags": []
   },
   "outputs": [
    {
     "data": {
      "text/plain": [
       "Education                    0\n",
       "JoiningYear                  0\n",
       "City                         0\n",
       "PaymentTier                  0\n",
       "Age                          0\n",
       "Gender                       0\n",
       "EverBenched                  0\n",
       "ExperienceInCurrentDomain    0\n",
       "LeaveOrNot                   0\n",
       "dtype: int64"
      ]
     },
     "execution_count": 19,
     "metadata": {},
     "output_type": "execute_result"
    }
   ],
   "source": [
    "data.isnull().sum()"
   ]
  },
  {
   "cell_type": "markdown",
   "id": "359db4ae",
   "metadata": {
    "papermill": {
     "duration": 0.025649,
     "end_time": "2023-10-11T06:21:37.367261",
     "exception": false,
     "start_time": "2023-10-11T06:21:37.341612",
     "status": "completed"
    },
    "tags": []
   },
   "source": [
    "# HeatMap to check nullvalues"
   ]
  },
  {
   "cell_type": "code",
   "execution_count": 26,
   "id": "568fc3e8",
   "metadata": {
    "execution": {
     "iopub.execute_input": "2023-10-11T06:21:37.421863Z",
     "iopub.status.busy": "2023-10-11T06:21:37.420465Z",
     "iopub.status.idle": "2023-10-11T06:21:37.982655Z",
     "shell.execute_reply": "2023-10-11T06:21:37.981495Z"
    },
    "papermill": {
     "duration": 0.591544,
     "end_time": "2023-10-11T06:21:37.984847",
     "exception": false,
     "start_time": "2023-10-11T06:21:37.393303",
     "status": "completed"
    },
    "tags": []
   },
   "outputs": [
    {
     "data": {
      "text/plain": [
       "<Axes: >"
      ]
     },
     "execution_count": 26,
     "metadata": {},
     "output_type": "execute_result"
    },
    {
     "data": {
      "image/png": "[encoded data removed]",
      "text/plain": [
       "<Figure size 640x480 with 2 Axes>"
      ]
     },
     "metadata": {},
     "output_type": "display_data"
    }
   ],
   "source": [
    "sns.heatmap(data.isnull())"
   ]
  },
  {
   "cell_type": "markdown",
   "id": "216e3406",
   "metadata": {
    "papermill": {
     "duration": 0.025364,
     "end_time": "2023-10-11T06:21:38.093145",
     "exception": false,
     "start_time": "2023-10-11T06:21:38.067781",
     "status": "completed"
    },
    "tags": []
   },
   "source": [
    "**Lets check the shape of the data**"
   ]
  },
  {
   "cell_type": "code",
   "execution_count": 28,
   "id": "992d7da1",
   "metadata": {},
   "outputs": [
    {
     "data": {
      "text/plain": [
       "(4653, 9)"
      ]
     },
     "execution_count": 28,
     "metadata": {},
     "output_type": "execute_result"
    }
   ],
   "source": [
    "data.shape"
   ]
  },
  {
   "cell_type": "markdown",
   "id": "50d9cc3e",
   "metadata": {
    "papermill": {
     "duration": 0.032441,
     "end_time": "2023-10-11T06:21:38.227374",
     "exception": false,
     "start_time": "2023-10-11T06:21:38.194933",
     "status": "completed"
    },
    "tags": []
   },
   "source": [
    "# Exploratory Data Analysis\n"
   ]
  },
  {
   "cell_type": "markdown",
   "id": "55f642f4",
   "metadata": {
    "papermill": {
     "duration": 0.02693,
     "end_time": "2023-10-11T06:21:38.332921",
     "exception": false,
     "start_time": "2023-10-11T06:21:38.305991",
     "status": "completed"
    },
    "tags": []
   },
   "source": [
    "**Now we check how many unique degrees people have in the dataset.**"
   ]
  },
  {
   "cell_type": "code",
   "execution_count": 38,
   "id": "83771aa9",
   "metadata": {
    "execution": {
     "iopub.execute_input": "2023-10-11T06:21:38.411012Z",
     "iopub.status.busy": "2023-10-11T06:21:38.409527Z",
     "iopub.status.idle": "2023-10-11T06:21:38.423229Z",
     "shell.execute_reply": "2023-10-11T06:21:38.422159Z"
    },
    "papermill": {
     "duration": 0.056007,
     "end_time": "2023-10-11T06:21:38.427689",
     "exception": false,
     "start_time": "2023-10-11T06:21:38.371682",
     "status": "completed"
    },
    "tags": []
   },
   "outputs": [
    {
     "data": {
      "text/plain": [
       "0       Bachelors\n",
       "1       Bachelors\n",
       "2       Bachelors\n",
       "3         Masters\n",
       "4         Masters\n",
       "          ...    \n",
       "4648    Bachelors\n",
       "4649      Masters\n",
       "4650      Masters\n",
       "4651    Bachelors\n",
       "4652    Bachelors\n",
       "Name: Education, Length: 4653, dtype: object"
      ]
     },
     "execution_count": 38,
     "metadata": {},
     "output_type": "execute_result"
    }
   ],
   "source": [
    "# Education Level =>\n",
    "\n",
    "data[\"Education\"]"
   ]
  },
  {
   "cell_type": "markdown",
   "id": "114bc16a",
   "metadata": {},
   "source": [
    "# give count fot unique degree"
   ]
  },
  {
   "cell_type": "code",
   "execution_count": 53,
   "id": "a4527911",
   "metadata": {
    "execution": {
     "iopub.execute_input": "2023-10-11T06:21:38.503683Z",
     "iopub.status.busy": "2023-10-11T06:21:38.502456Z",
     "iopub.status.idle": "2023-10-11T06:21:38.514303Z",
     "shell.execute_reply": "2023-10-11T06:21:38.513498Z"
    },
    "papermill": {
     "duration": 0.053571,
     "end_time": "2023-10-11T06:21:38.516453",
     "exception": false,
     "start_time": "2023-10-11T06:21:38.462882",
     "status": "completed"
    },
    "tags": []
   },
   "outputs": [
    {
     "data": {
      "text/plain": [
       "3"
      ]
     },
     "execution_count": 53,
     "metadata": {},
     "output_type": "execute_result"
    }
   ],
   "source": [
    "part = data[\"Education\"].nunique()\n",
    "part"
   ]
  },
  {
   "cell_type": "markdown",
   "id": "65ffec70",
   "metadata": {
    "papermill": {
     "duration": 0.027567,
     "end_time": "2023-10-11T06:21:38.571620",
     "exception": false,
     "start_time": "2023-10-11T06:21:38.544053",
     "status": "completed"
    },
    "tags": []
   },
   "source": [
    "* **Most of the Employee have \"Bachelors\" degree**\n",
    "\n",
    "\n",
    "* **Very less Employee have \"PHD\" degree**"
   ]
  },
  {
   "cell_type": "markdown",
   "id": "95f7798c",
   "metadata": {
    "papermill": {
     "duration": 0.029115,
     "end_time": "2023-10-11T06:21:38.632225",
     "exception": false,
     "start_time": "2023-10-11T06:21:38.603110",
     "status": "completed"
    },
    "tags": []
   },
   "source": [
    "# Now lets visualize the number of different degree holder in the form of a Bar Graph\n",
    " "
   ]
  },
  {
   "cell_type": "code",
   "execution_count": 57,
   "id": "7b8c59e1",
   "metadata": {
    "execution": {
     "iopub.execute_input": "2023-10-11T06:21:38.690072Z",
     "iopub.status.busy": "2023-10-11T06:21:38.689357Z",
     "iopub.status.idle": "2023-10-11T06:21:38.912969Z",
     "shell.execute_reply": "2023-10-11T06:21:38.912047Z"
    },
    "papermill": {
     "duration": 0.256068,
     "end_time": "2023-10-11T06:21:38.914841",
     "exception": false,
     "start_time": "2023-10-11T06:21:38.658773",
     "status": "completed"
    },
    "tags": []
   },
   "outputs": [
    {
     "data": {
      "image/png": "[encoded data removed]",
      "text/plain": [
       "<Figure size 800x600 with 1 Axes>"
      ]
     },
     "metadata": {},
     "output_type": "display_data"
    }
   ],
   "source": [
    "plt.figure(figsize=(8, 6))\n",
    "plt.bar(data[\"Education\"],data[\"Age\"], color='skyblue')\n",
    "plt.xlabel('Degree Types')\n",
    "plt.ylabel('Number of Degree Holders')\n",
    "plt.title('Number of Different Degree Holders')\n",
    "plt.xticks(rotation=45)  \n",
    "plt.tight_layout()\n"
   ]
  },
  {
   "cell_type": "markdown",
   "id": "fbab0b80",
   "metadata": {
    "papermill": {
     "duration": 0.027474,
     "end_time": "2023-10-11T06:21:38.972136",
     "exception": false,
     "start_time": "2023-10-11T06:21:38.944662",
     "status": "completed"
    },
    "tags": []
   },
   "source": [
    "# Now lets visualize the percentage of different degree holder in the form of a pie-chart\n"
   ]
  },
  {
   "cell_type": "code",
   "execution_count": 76,
   "id": "510b91df",
   "metadata": {
    "execution": {
     "iopub.execute_input": "2023-10-11T06:21:39.040674Z",
     "iopub.status.busy": "2023-10-11T06:21:39.040228Z",
     "iopub.status.idle": "2023-10-11T06:21:39.206045Z",
     "shell.execute_reply": "2023-10-11T06:21:39.204070Z"
    },
    "papermill": {
     "duration": 0.211667,
     "end_time": "2023-10-11T06:21:39.211662",
     "exception": false,
     "start_time": "2023-10-11T06:21:38.999995",
     "status": "completed"
    },
    "tags": []
   },
   "outputs": [
    {
     "ename": "NameError",
     "evalue": "name 'counts' is not defined",
     "output_type": "error",
     "traceback": [
      "\u001b[1;31m---------------------------------------------------------------------------\u001b[0m",
      "\u001b[1;31mNameError\u001b[0m                                 Traceback (most recent call last)",
      "Cell \u001b[1;32mIn[76], line 1\u001b[0m\n\u001b[1;32m----> 1\u001b[0m total \u001b[38;5;241m=\u001b[39m data[\u001b[38;5;124m\"\u001b[39m\u001b[38;5;124mEducation\u001b[39m\u001b[38;5;124m\"\u001b[39m]\u001b[38;5;241m.\u001b[39msum(\u001b[43mcounts\u001b[49m)\n\u001b[0;32m      2\u001b[0m percentages \u001b[38;5;241m=\u001b[39m [(\u001b[38;5;241m3\u001b[39m \u001b[38;5;241m/\u001b[39m total) \u001b[38;5;241m*\u001b[39m \u001b[38;5;241m100\u001b[39m ]\n\u001b[0;32m      4\u001b[0m plt\u001b[38;5;241m.\u001b[39mfigure(figsize\u001b[38;5;241m=\u001b[39m(\u001b[38;5;241m8\u001b[39m, \u001b[38;5;241m6\u001b[39m))\n",
      "\u001b[1;31mNameError\u001b[0m: name 'counts' is not defined"
     ]
    }
   ],
   "source": [
    "total = data[\"Education\"].sum(counts)\n",
    "percentages = [(3 / total) * 100 ]\n",
    "\n",
    "plt.figure(figsize=(8, 6))\n",
    "plt.pie(data[\"Education\"], labels=\"Education\", autopct='%1.1f%%')\n"
   ]
  },
  {
   "cell_type": "markdown",
   "id": "03b6615d",
   "metadata": {
    "papermill": {
     "duration": 0.029082,
     "end_time": "2023-10-11T06:21:39.306602",
     "exception": false,
     "start_time": "2023-10-11T06:21:39.277520",
     "status": "completed"
    },
    "tags": []
   },
   "source": [
    "**Now we check how many unique cities people have in the dataset.**\n"
   ]
  },
  {
   "cell_type": "code",
   "execution_count": 17,
   "id": "76415aad",
   "metadata": {
    "execution": {
     "iopub.execute_input": "2023-10-11T06:21:39.364862Z",
     "iopub.status.busy": "2023-10-11T06:21:39.364419Z",
     "iopub.status.idle": "2023-10-11T06:21:39.372776Z",
     "shell.execute_reply": "2023-10-11T06:21:39.371485Z"
    },
    "papermill": {
     "duration": 0.040823,
     "end_time": "2023-10-11T06:21:39.375510",
     "exception": false,
     "start_time": "2023-10-11T06:21:39.334687",
     "status": "completed"
    },
    "tags": []
   },
   "outputs": [
    {
     "data": {
      "text/plain": [
       "array(['Bangalore', 'Pune', 'New Delhi'], dtype=object)"
      ]
     },
     "execution_count": 17,
     "metadata": {},
     "output_type": "execute_result"
    }
   ],
   "source": [
    "# City =>\n"
   ]
  },
  {
   "cell_type": "code",
   "execution_count": 18,
   "id": "a0d65850",
   "metadata": {
    "execution": {
     "iopub.execute_input": "2023-10-11T06:21:39.432949Z",
     "iopub.status.busy": "2023-10-11T06:21:39.432548Z",
     "iopub.status.idle": "2023-10-11T06:21:39.445494Z",
     "shell.execute_reply": "2023-10-11T06:21:39.444019Z"
    },
    "papermill": {
     "duration": 0.045365,
     "end_time": "2023-10-11T06:21:39.448119",
     "exception": false,
     "start_time": "2023-10-11T06:21:39.402754",
     "status": "completed"
    },
    "tags": []
   },
   "outputs": [
    {
     "data": {
      "text/html": [
       "<div>\n",
       "<style scoped>\n",
       "    .dataframe tbody tr th:only-of-type {\n",
       "        vertical-align: middle;\n",
       "    }\n",
       "\n",
       "    .dataframe tbody tr th {\n",
       "        vertical-align: top;\n",
       "    }\n",
       "\n",
       "    .dataframe thead th {\n",
       "        text-align: right;\n",
       "    }\n",
       "</style>\n",
       "<table border=\"1\" class=\"dataframe\">\n",
       "  <thead>\n",
       "    <tr style=\"text-align: right;\">\n",
       "      <th></th>\n",
       "      <th>City</th>\n",
       "      <th>count</th>\n",
       "    </tr>\n",
       "  </thead>\n",
       "  <tbody>\n",
       "    <tr>\n",
       "      <th>0</th>\n",
       "      <td>Bangalore</td>\n",
       "      <td>2228</td>\n",
       "    </tr>\n",
       "    <tr>\n",
       "      <th>1</th>\n",
       "      <td>Pune</td>\n",
       "      <td>1268</td>\n",
       "    </tr>\n",
       "    <tr>\n",
       "      <th>2</th>\n",
       "      <td>New Delhi</td>\n",
       "      <td>1157</td>\n",
       "    </tr>\n",
       "  </tbody>\n",
       "</table>\n",
       "</div>"
      ],
      "text/plain": [
       "        City  count\n",
       "0  Bangalore   2228\n",
       "1       Pune   1268\n",
       "2  New Delhi   1157"
      ]
     },
     "execution_count": 18,
     "metadata": {},
     "output_type": "execute_result"
    }
   ],
   "source": []
  },
  {
   "cell_type": "markdown",
   "id": "56ab44b7",
   "metadata": {
    "papermill": {
     "duration": 0.027188,
     "end_time": "2023-10-11T06:21:39.502652",
     "exception": false,
     "start_time": "2023-10-11T06:21:39.475464",
     "status": "completed"
    },
    "tags": []
   },
   "source": [
    "**Most of employees are from bangalore**"
   ]
  },
  {
   "cell_type": "markdown",
   "id": "1514ddc7",
   "metadata": {
    "papermill": {
     "duration": 0.026813,
     "end_time": "2023-10-11T06:21:39.556590",
     "exception": false,
     "start_time": "2023-10-11T06:21:39.529777",
     "status": "completed"
    },
    "tags": []
   },
   "source": [
    "# Now lets visualize the number of Employees from Different cities in the form of a Bar Graph\n"
   ]
  },
  {
   "cell_type": "code",
   "execution_count": 19,
   "id": "651cb0e6",
   "metadata": {
    "execution": {
     "iopub.execute_input": "2023-10-11T06:21:39.617249Z",
     "iopub.status.busy": "2023-10-11T06:21:39.616267Z",
     "iopub.status.idle": "2023-10-11T06:21:39.825266Z",
     "shell.execute_reply": "2023-10-11T06:21:39.823818Z"
    },
    "papermill": {
     "duration": 0.243396,
     "end_time": "2023-10-11T06:21:39.828092",
     "exception": false,
     "start_time": "2023-10-11T06:21:39.584696",
     "status": "completed"
    },
    "tags": []
   },
   "outputs": [
    {
     "data": {
      "text/plain": [
       "<BarContainer object of 3 artists>"
      ]
     },
     "execution_count": 19,
     "metadata": {},
     "output_type": "execute_result"
    },
    {
     "data": {
      "image/png": "[encoded data removed]",
      "text/plain": [
       "<Figure size 640x480 with 1 Axes>"
      ]
     },
     "metadata": {},
     "output_type": "display_data"
    }
   ],
   "source": []
  },
  {
   "cell_type": "markdown",
   "id": "8d7d92eb",
   "metadata": {
    "papermill": {
     "duration": 0.028447,
     "end_time": "2023-10-11T06:21:39.886292",
     "exception": false,
     "start_time": "2023-10-11T06:21:39.857845",
     "status": "completed"
    },
    "tags": []
   },
   "source": [
    "# Now lets visualize the percentage of Employees from Different cities in the form of a Pie Chart\n"
   ]
  },
  {
   "cell_type": "code",
   "execution_count": 20,
   "id": "92ff6b3a",
   "metadata": {
    "execution": {
     "iopub.execute_input": "2023-10-11T06:21:39.947766Z",
     "iopub.status.busy": "2023-10-11T06:21:39.947345Z",
     "iopub.status.idle": "2023-10-11T06:21:40.094349Z",
     "shell.execute_reply": "2023-10-11T06:21:40.092707Z"
    },
    "papermill": {
     "duration": 0.183658,
     "end_time": "2023-10-11T06:21:40.098643",
     "exception": false,
     "start_time": "2023-10-11T06:21:39.914985",
     "status": "completed"
    },
    "tags": []
   },
   "outputs": [
    {
     "data": {
      "text/plain": [
       "Text(0.5, 1.0, 'Employee from different City')"
      ]
     },
     "execution_count": 20,
     "metadata": {},
     "output_type": "execute_result"
    },
    {
     "data": {
      "image/png": "[encoded data removed]",
      "text/plain": [
       "<Figure size 640x480 with 1 Axes>"
      ]
     },
     "metadata": {},
     "output_type": "display_data"
    }
   ],
   "source": []
  },
  {
   "cell_type": "markdown",
   "id": "4dd61c86",
   "metadata": {
    "papermill": {
     "duration": 0.032911,
     "end_time": "2023-10-11T06:21:40.199242",
     "exception": false,
     "start_time": "2023-10-11T06:21:40.166331",
     "status": "completed"
    },
    "tags": []
   },
   "source": [
    "**Types in Payment Tier**"
   ]
  },
  {
   "cell_type": "code",
   "execution_count": 21,
   "id": "928f832e",
   "metadata": {
    "execution": {
     "iopub.execute_input": "2023-10-11T06:21:40.263248Z",
     "iopub.status.busy": "2023-10-11T06:21:40.262883Z",
     "iopub.status.idle": "2023-10-11T06:21:40.270849Z",
     "shell.execute_reply": "2023-10-11T06:21:40.269576Z"
    },
    "papermill": {
     "duration": 0.041469,
     "end_time": "2023-10-11T06:21:40.273142",
     "exception": false,
     "start_time": "2023-10-11T06:21:40.231673",
     "status": "completed"
    },
    "tags": []
   },
   "outputs": [
    {
     "data": {
      "text/plain": [
       "array([3, 1, 2])"
      ]
     },
     "execution_count": 21,
     "metadata": {},
     "output_type": "execute_result"
    }
   ],
   "source": [
    "# Payment Tier\n"
   ]
  },
  {
   "cell_type": "code",
   "execution_count": 22,
   "id": "0a72f2b3",
   "metadata": {
    "execution": {
     "iopub.execute_input": "2023-10-11T06:21:40.334544Z",
     "iopub.status.busy": "2023-10-11T06:21:40.334132Z",
     "iopub.status.idle": "2023-10-11T06:21:40.344660Z",
     "shell.execute_reply": "2023-10-11T06:21:40.343268Z"
    },
    "papermill": {
     "duration": 0.044295,
     "end_time": "2023-10-11T06:21:40.346990",
     "exception": false,
     "start_time": "2023-10-11T06:21:40.302695",
     "status": "completed"
    },
    "tags": []
   },
   "outputs": [
    {
     "data": {
      "text/html": [
       "<div>\n",
       "<style scoped>\n",
       "    .dataframe tbody tr th:only-of-type {\n",
       "        vertical-align: middle;\n",
       "    }\n",
       "\n",
       "    .dataframe tbody tr th {\n",
       "        vertical-align: top;\n",
       "    }\n",
       "\n",
       "    .dataframe thead th {\n",
       "        text-align: right;\n",
       "    }\n",
       "</style>\n",
       "<table border=\"1\" class=\"dataframe\">\n",
       "  <thead>\n",
       "    <tr style=\"text-align: right;\">\n",
       "      <th></th>\n",
       "      <th>PaymentTier</th>\n",
       "      <th>count</th>\n",
       "    </tr>\n",
       "  </thead>\n",
       "  <tbody>\n",
       "    <tr>\n",
       "      <th>0</th>\n",
       "      <td>3</td>\n",
       "      <td>3492</td>\n",
       "    </tr>\n",
       "    <tr>\n",
       "      <th>1</th>\n",
       "      <td>2</td>\n",
       "      <td>918</td>\n",
       "    </tr>\n",
       "    <tr>\n",
       "      <th>2</th>\n",
       "      <td>1</td>\n",
       "      <td>243</td>\n",
       "    </tr>\n",
       "  </tbody>\n",
       "</table>\n",
       "</div>"
      ],
      "text/plain": [
       "   PaymentTier  count\n",
       "0            3   3492\n",
       "1            2    918\n",
       "2            1    243"
      ]
     },
     "execution_count": 22,
     "metadata": {},
     "output_type": "execute_result"
    }
   ],
   "source": [
    "pay_tier=df['PaymentTier'].value_counts()\n",
    "pay_tier"
   ]
  },
  {
   "cell_type": "markdown",
   "id": "3738ae42",
   "metadata": {
    "papermill": {
     "duration": 0.029409,
     "end_time": "2023-10-11T06:21:40.405890",
     "exception": false,
     "start_time": "2023-10-11T06:21:40.376481",
     "status": "completed"
    },
    "tags": []
   },
   "source": [
    "**Most of the Employees are from PaymentTier -> 3**\n",
    "\n"
   ]
  },
  {
   "cell_type": "markdown",
   "id": "e6c95108",
   "metadata": {
    "papermill": {
     "duration": 0.03068,
     "end_time": "2023-10-11T06:21:40.467027",
     "exception": false,
     "start_time": "2023-10-11T06:21:40.436347",
     "status": "completed"
    },
    "tags": []
   },
   "source": [
    "# Now lets visualize the number of Employees from Different Payment tier in the form of a Bar Graph\n"
   ]
  },
  {
   "cell_type": "code",
   "execution_count": null,
   "id": "710c7e86",
   "metadata": {},
   "outputs": [],
   "source": []
  },
  {
   "cell_type": "markdown",
   "id": "df27e953",
   "metadata": {
    "papermill": {
     "duration": 0.028361,
     "end_time": "2023-10-11T06:21:40.861396",
     "exception": false,
     "start_time": "2023-10-11T06:21:40.833035",
     "status": "completed"
    },
    "tags": []
   },
   "source": [
    "# Now lets visualize the percentage of Employees from Different Payment tier in the form of a Pie Chart\n"
   ]
  },
  {
   "cell_type": "code",
   "execution_count": 24,
   "id": "df3da885",
   "metadata": {
    "execution": {
     "iopub.execute_input": "2023-10-11T06:21:40.922393Z",
     "iopub.status.busy": "2023-10-11T06:21:40.921610Z",
     "iopub.status.idle": "2023-10-11T06:21:41.083989Z",
     "shell.execute_reply": "2023-10-11T06:21:41.082455Z"
    },
    "papermill": {
     "duration": 0.196631,
     "end_time": "2023-10-11T06:21:41.087545",
     "exception": false,
     "start_time": "2023-10-11T06:21:40.890914",
     "status": "completed"
    },
    "tags": []
   },
   "outputs": [
    {
     "data": {
      "text/plain": [
       "Text(0.5, 1.0, 'Employees from different PaymentTier')"
      ]
     },
     "execution_count": 24,
     "metadata": {},
     "output_type": "execute_result"
    },
    {
     "data": {
      "image/png": "[encoded data removed]",
      "text/plain": [
       "<Figure size 640x480 with 1 Axes>"
      ]
     },
     "metadata": {},
     "output_type": "display_data"
    }
   ],
   "source": []
  },
  {
   "cell_type": "markdown",
   "id": "ec304717",
   "metadata": {
    "papermill": {
     "duration": 0.030003,
     "end_time": "2023-10-11T06:21:42.150636",
     "exception": false,
     "start_time": "2023-10-11T06:21:42.120633",
     "status": "completed"
    },
    "tags": []
   },
   "source": [
    "**Now we check how many unique age number of people have in the dataset.**\n",
    "​\n"
   ]
  },
  {
   "cell_type": "code",
   "execution_count": 29,
   "id": "05b7a488",
   "metadata": {
    "execution": {
     "iopub.execute_input": "2023-10-11T06:21:42.216788Z",
     "iopub.status.busy": "2023-10-11T06:21:42.215342Z",
     "iopub.status.idle": "2023-10-11T06:21:42.222391Z",
     "shell.execute_reply": "2023-10-11T06:21:42.221653Z"
    },
    "papermill": {
     "duration": 0.043582,
     "end_time": "2023-10-11T06:21:42.224703",
     "exception": false,
     "start_time": "2023-10-11T06:21:42.181121",
     "status": "completed"
    },
    "tags": []
   },
   "outputs": [
    {
     "data": {
      "text/plain": [
       "array([34, 28, 38, 27, 24, 22, 23, 37, 32, 39, 29, 30, 36, 31, 25, 26, 40,\n",
       "       35, 33, 41])"
      ]
     },
     "execution_count": 29,
     "metadata": {},
     "output_type": "execute_result"
    }
   ],
   "source": [
    "# Age =>\n",
    "df['Age'].unique()"
   ]
  },
  {
   "cell_type": "markdown",
   "id": "739bbe96",
   "metadata": {
    "execution": {
     "iopub.execute_input": "2023-10-11T06:21:42.287117Z",
     "iopub.status.busy": "2023-10-11T06:21:42.286704Z",
     "iopub.status.idle": "2023-10-11T06:21:42.302280Z",
     "shell.execute_reply": "2023-10-11T06:21:42.300915Z"
    },
    "papermill": {
     "duration": 0.049996,
     "end_time": "2023-10-11T06:21:42.304819",
     "exception": false,
     "start_time": "2023-10-11T06:21:42.254823",
     "status": "completed"
    },
    "tags": []
   },
   "source": [
    "# count the age values"
   ]
  },
  {
   "cell_type": "code",
   "execution_count": null,
   "id": "d70de956",
   "metadata": {},
   "outputs": [],
   "source": []
  },
  {
   "cell_type": "markdown",
   "id": "96ba569e",
   "metadata": {
    "papermill": {
     "duration": 0.030465,
     "end_time": "2023-10-11T06:21:42.427396",
     "exception": false,
     "start_time": "2023-10-11T06:21:42.396931",
     "status": "completed"
    },
    "tags": []
   },
   "source": [
    "# Bar Graph represents Different Age group of employees"
   ]
  },
  {
   "cell_type": "code",
   "execution_count": 31,
   "id": "90e02b3d",
   "metadata": {
    "execution": {
     "iopub.execute_input": "2023-10-11T06:21:42.491176Z",
     "iopub.status.busy": "2023-10-11T06:21:42.490741Z",
     "iopub.status.idle": "2023-10-11T06:21:42.880160Z",
     "shell.execute_reply": "2023-10-11T06:21:42.878726Z"
    },
    "papermill": {
     "duration": 0.424607,
     "end_time": "2023-10-11T06:21:42.882807",
     "exception": false,
     "start_time": "2023-10-11T06:21:42.458200",
     "status": "completed"
    },
    "tags": []
   },
   "outputs": [
    {
     "data": {
      "text/plain": [
       "<BarContainer object of 20 artists>"
      ]
     },
     "execution_count": 31,
     "metadata": {},
     "output_type": "execute_result"
    },
    {
     "data": {
      "image/png": "[encoded data removed]",
      "text/plain": [
       "<Figure size 640x480 with 1 Axes>"
      ]
     },
     "metadata": {},
     "output_type": "display_data"
    }
   ],
   "source": []
  },
  {
   "cell_type": "markdown",
   "id": "74c9d4f7",
   "metadata": {
    "papermill": {
     "duration": 0.032811,
     "end_time": "2023-10-11T06:21:42.948794",
     "exception": false,
     "start_time": "2023-10-11T06:21:42.915983",
     "status": "completed"
    },
    "tags": []
   },
   "source": [
    "# Pie Chart represents the age percentage of employees"
   ]
  },
  {
   "cell_type": "code",
   "execution_count": 32,
   "id": "dfd95669",
   "metadata": {
    "execution": {
     "iopub.execute_input": "2023-10-11T06:21:43.025278Z",
     "iopub.status.busy": "2023-10-11T06:21:43.023787Z",
     "iopub.status.idle": "2023-10-11T06:21:43.352264Z",
     "shell.execute_reply": "2023-10-11T06:21:43.350550Z"
    },
    "papermill": {
     "duration": 0.375139,
     "end_time": "2023-10-11T06:21:43.356810",
     "exception": false,
     "start_time": "2023-10-11T06:21:42.981671",
     "status": "completed"
    },
    "tags": []
   },
   "outputs": [
    {
     "data": {
      "text/plain": [
       "Text(0.5, 1.0, 'Ratio Of Different Ages of Employees')"
      ]
     },
     "execution_count": 32,
     "metadata": {},
     "output_type": "execute_result"
    },
    {
     "data": {
      "image/png": "[encoded data removed]",
      "text/plain": [
       "<Figure size 640x480 with 1 Axes>"
      ]
     },
     "metadata": {},
     "output_type": "display_data"
    }
   ],
   "source": []
  },
  {
   "cell_type": "markdown",
   "id": "38e1dbe2",
   "metadata": {
    "papermill": {
     "duration": 0.041983,
     "end_time": "2023-10-11T06:21:43.431668",
     "exception": false,
     "start_time": "2023-10-11T06:21:43.389685",
     "status": "completed"
    },
    "tags": []
   },
   "source": [
    "**Gender**"
   ]
  },
  {
   "cell_type": "code",
   "execution_count": 33,
   "id": "dc8b7f37",
   "metadata": {
    "execution": {
     "iopub.execute_input": "2023-10-11T06:21:43.498326Z",
     "iopub.status.busy": "2023-10-11T06:21:43.497896Z",
     "iopub.status.idle": "2023-10-11T06:21:43.506364Z",
     "shell.execute_reply": "2023-10-11T06:21:43.504955Z"
    },
    "papermill": {
     "duration": 0.044648,
     "end_time": "2023-10-11T06:21:43.508586",
     "exception": false,
     "start_time": "2023-10-11T06:21:43.463938",
     "status": "completed"
    },
    "tags": []
   },
   "outputs": [
    {
     "data": {
      "text/plain": [
       "array(['Male', 'Female'], dtype=object)"
      ]
     },
     "execution_count": 33,
     "metadata": {},
     "output_type": "execute_result"
    }
   ],
   "source": [
    "# Gender=>\n",
    "df['Gender'].unique()"
   ]
  },
  {
   "cell_type": "code",
   "execution_count": 34,
   "id": "de86ef36",
   "metadata": {
    "execution": {
     "iopub.execute_input": "2023-10-11T06:21:43.576103Z",
     "iopub.status.busy": "2023-10-11T06:21:43.575669Z",
     "iopub.status.idle": "2023-10-11T06:21:43.587982Z",
     "shell.execute_reply": "2023-10-11T06:21:43.586829Z"
    },
    "papermill": {
     "duration": 0.049516,
     "end_time": "2023-10-11T06:21:43.590661",
     "exception": false,
     "start_time": "2023-10-11T06:21:43.541145",
     "status": "completed"
    },
    "tags": []
   },
   "outputs": [
    {
     "data": {
      "text/html": [
       "<div>\n",
       "<style scoped>\n",
       "    .dataframe tbody tr th:only-of-type {\n",
       "        vertical-align: middle;\n",
       "    }\n",
       "\n",
       "    .dataframe tbody tr th {\n",
       "        vertical-align: top;\n",
       "    }\n",
       "\n",
       "    .dataframe thead th {\n",
       "        text-align: right;\n",
       "    }\n",
       "</style>\n",
       "<table border=\"1\" class=\"dataframe\">\n",
       "  <thead>\n",
       "    <tr style=\"text-align: right;\">\n",
       "      <th></th>\n",
       "      <th>Gender</th>\n",
       "      <th>count</th>\n",
       "    </tr>\n",
       "  </thead>\n",
       "  <tbody>\n",
       "    <tr>\n",
       "      <th>0</th>\n",
       "      <td>Male</td>\n",
       "      <td>2778</td>\n",
       "    </tr>\n",
       "    <tr>\n",
       "      <th>1</th>\n",
       "      <td>Female</td>\n",
       "      <td>1875</td>\n",
       "    </tr>\n",
       "  </tbody>\n",
       "</table>\n",
       "</div>"
      ],
      "text/plain": [
       "   Gender  count\n",
       "0    Male   2778\n",
       "1  Female   1875"
      ]
     },
     "execution_count": 34,
     "metadata": {},
     "output_type": "execute_result"
    }
   ],
   "source": [
    "gender=df['Gender'].value_counts().reset_index()\n",
    "gender"
   ]
  },
  {
   "cell_type": "markdown",
   "id": "a6198f8e",
   "metadata": {
    "papermill": {
     "duration": 0.034008,
     "end_time": "2023-10-11T06:21:43.660356",
     "exception": false,
     "start_time": "2023-10-11T06:21:43.626348",
     "status": "completed"
    },
    "tags": []
   },
   "source": [
    "**There are around 1000 more male employees in the dataset**\n",
    "\n"
   ]
  },
  {
   "cell_type": "markdown",
   "id": "5efb8894",
   "metadata": {
    "papermill": {
     "duration": 0.032539,
     "end_time": "2023-10-11T06:21:43.728292",
     "exception": false,
     "start_time": "2023-10-11T06:21:43.695753",
     "status": "completed"
    },
    "tags": []
   },
   "source": [
    "# Gender Ratio of Employees in the form of Bar Graph"
   ]
  },
  {
   "cell_type": "code",
   "execution_count": 35,
   "id": "eea0dcf5",
   "metadata": {
    "execution": {
     "iopub.execute_input": "2023-10-11T06:21:43.795640Z",
     "iopub.status.busy": "2023-10-11T06:21:43.795238Z",
     "iopub.status.idle": "2023-10-11T06:21:43.995192Z",
     "shell.execute_reply": "2023-10-11T06:21:43.993882Z"
    },
    "papermill": {
     "duration": 0.236801,
     "end_time": "2023-10-11T06:21:43.997990",
     "exception": false,
     "start_time": "2023-10-11T06:21:43.761189",
     "status": "completed"
    },
    "tags": []
   },
   "outputs": [
    {
     "data": {
      "text/plain": [
       "<BarContainer object of 2 artists>"
      ]
     },
     "execution_count": 35,
     "metadata": {},
     "output_type": "execute_result"
    },
    {
     "data": {
      "image/png": "[encoded data removed]",
      "text/plain": [
       "<Figure size 640x480 with 1 Axes>"
      ]
     },
     "metadata": {},
     "output_type": "display_data"
    }
   ],
   "source": []
  },
  {
   "cell_type": "markdown",
   "id": "a5a31ff9",
   "metadata": {
    "papermill": {
     "duration": 0.032692,
     "end_time": "2023-10-11T06:21:44.066969",
     "exception": false,
     "start_time": "2023-10-11T06:21:44.034277",
     "status": "completed"
    },
    "tags": []
   },
   "source": [
    "# Pie Chart represents gender ratio of employees"
   ]
  },
  {
   "cell_type": "code",
   "execution_count": 36,
   "id": "300b59a4",
   "metadata": {
    "execution": {
     "iopub.execute_input": "2023-10-11T06:21:44.136325Z",
     "iopub.status.busy": "2023-10-11T06:21:44.135734Z",
     "iopub.status.idle": "2023-10-11T06:21:44.265547Z",
     "shell.execute_reply": "2023-10-11T06:21:44.263715Z"
    },
    "papermill": {
     "duration": 0.169704,
     "end_time": "2023-10-11T06:21:44.269735",
     "exception": false,
     "start_time": "2023-10-11T06:21:44.100031",
     "status": "completed"
    },
    "tags": []
   },
   "outputs": [
    {
     "data": {
      "text/plain": [
       "Text(0.5, 1.0, 'Gender Ratio')"
      ]
     },
     "execution_count": 36,
     "metadata": {},
     "output_type": "execute_result"
    },
    {
     "data": {
      "image/png": "[encoded data removed]",
      "text/plain": [
       "<Figure size 640x480 with 1 Axes>"
      ]
     },
     "metadata": {},
     "output_type": "display_data"
    }
   ],
   "source": []
  },
  {
   "cell_type": "markdown",
   "id": "baf3a52b",
   "metadata": {
    "papermill": {
     "duration": 0.036464,
     "end_time": "2023-10-11T06:21:45.387920",
     "exception": false,
     "start_time": "2023-10-11T06:21:45.351456",
     "status": "completed"
    },
    "tags": []
   },
   "source": [
    "**Experience**"
   ]
  },
  {
   "cell_type": "markdown",
   "id": "b50f5dff",
   "metadata": {},
   "source": [
    "##Find the unique experiance"
   ]
  },
  {
   "cell_type": "code",
   "execution_count": 41,
   "id": "87c304f3",
   "metadata": {
    "execution": {
     "iopub.execute_input": "2023-10-11T06:21:45.462640Z",
     "iopub.status.busy": "2023-10-11T06:21:45.462196Z",
     "iopub.status.idle": "2023-10-11T06:21:45.468968Z",
     "shell.execute_reply": "2023-10-11T06:21:45.467707Z"
    },
    "papermill": {
     "duration": 0.047033,
     "end_time": "2023-10-11T06:21:45.471064",
     "exception": false,
     "start_time": "2023-10-11T06:21:45.424031",
     "status": "completed"
    },
    "tags": []
   },
   "outputs": [
    {
     "data": {
      "text/plain": [
       "array([0, 3, 2, 5, 1, 4, 7, 6])"
      ]
     },
     "execution_count": 41,
     "metadata": {},
     "output_type": "execute_result"
    }
   ],
   "source": []
  },
  {
   "cell_type": "code",
   "execution_count": null,
   "id": "1c4e0ed6",
   "metadata": {},
   "outputs": [],
   "source": []
  },
  {
   "cell_type": "markdown",
   "id": "57f7d3e9",
   "metadata": {},
   "source": [
    "##Find the unique experiance count"
   ]
  },
  {
   "cell_type": "code",
   "execution_count": 42,
   "id": "c3d444df",
   "metadata": {
    "execution": {
     "iopub.execute_input": "2023-10-11T06:21:45.545086Z",
     "iopub.status.busy": "2023-10-11T06:21:45.544144Z",
     "iopub.status.idle": "2023-10-11T06:21:45.555054Z",
     "shell.execute_reply": "2023-10-11T06:21:45.554233Z"
    },
    "papermill": {
     "duration": 0.050114,
     "end_time": "2023-10-11T06:21:45.557069",
     "exception": false,
     "start_time": "2023-10-11T06:21:45.506955",
     "status": "completed"
    },
    "tags": []
   },
   "outputs": [
    {
     "data": {
      "text/html": [
       "<div>\n",
       "<style scoped>\n",
       "    .dataframe tbody tr th:only-of-type {\n",
       "        vertical-align: middle;\n",
       "    }\n",
       "\n",
       "    .dataframe tbody tr th {\n",
       "        vertical-align: top;\n",
       "    }\n",
       "\n",
       "    .dataframe thead th {\n",
       "        text-align: right;\n",
       "    }\n",
       "</style>\n",
       "<table border=\"1\" class=\"dataframe\">\n",
       "  <thead>\n",
       "    <tr style=\"text-align: right;\">\n",
       "      <th></th>\n",
       "      <th>ExperienceInCurrentDomain</th>\n",
       "      <th>count</th>\n",
       "    </tr>\n",
       "  </thead>\n",
       "  <tbody>\n",
       "    <tr>\n",
       "      <th>0</th>\n",
       "      <td>2</td>\n",
       "      <td>1087</td>\n",
       "    </tr>\n",
       "    <tr>\n",
       "      <th>1</th>\n",
       "      <td>4</td>\n",
       "      <td>931</td>\n",
       "    </tr>\n",
       "    <tr>\n",
       "      <th>2</th>\n",
       "      <td>5</td>\n",
       "      <td>919</td>\n",
       "    </tr>\n",
       "    <tr>\n",
       "      <th>3</th>\n",
       "      <td>3</td>\n",
       "      <td>786</td>\n",
       "    </tr>\n",
       "    <tr>\n",
       "      <th>4</th>\n",
       "      <td>1</td>\n",
       "      <td>558</td>\n",
       "    </tr>\n",
       "    <tr>\n",
       "      <th>5</th>\n",
       "      <td>0</td>\n",
       "      <td>355</td>\n",
       "    </tr>\n",
       "    <tr>\n",
       "      <th>6</th>\n",
       "      <td>7</td>\n",
       "      <td>9</td>\n",
       "    </tr>\n",
       "    <tr>\n",
       "      <th>7</th>\n",
       "      <td>6</td>\n",
       "      <td>8</td>\n",
       "    </tr>\n",
       "  </tbody>\n",
       "</table>\n",
       "</div>"
      ],
      "text/plain": [
       "   ExperienceInCurrentDomain  count\n",
       "0                          2   1087\n",
       "1                          4    931\n",
       "2                          5    919\n",
       "3                          3    786\n",
       "4                          1    558\n",
       "5                          0    355\n",
       "6                          7      9\n",
       "7                          6      8"
      ]
     },
     "execution_count": 42,
     "metadata": {},
     "output_type": "execute_result"
    }
   ],
   "source": []
  },
  {
   "cell_type": "markdown",
   "id": "29846873",
   "metadata": {
    "papermill": {
     "duration": 0.035821,
     "end_time": "2023-10-11T06:21:45.702775",
     "exception": false,
     "start_time": "2023-10-11T06:21:45.666954",
     "status": "completed"
    },
    "tags": []
   },
   "source": [
    "# Bar Graph represents the experience Of Current Domain of Employees"
   ]
  },
  {
   "cell_type": "code",
   "execution_count": 43,
   "id": "0a0ea663",
   "metadata": {
    "execution": {
     "iopub.execute_input": "2023-10-11T06:21:45.777560Z",
     "iopub.status.busy": "2023-10-11T06:21:45.776843Z",
     "iopub.status.idle": "2023-10-11T06:21:46.049635Z",
     "shell.execute_reply": "2023-10-11T06:21:46.048154Z"
    },
    "papermill": {
     "duration": 0.313171,
     "end_time": "2023-10-11T06:21:46.052188",
     "exception": false,
     "start_time": "2023-10-11T06:21:45.739017",
     "status": "completed"
    },
    "tags": []
   },
   "outputs": [
    {
     "data": {
      "text/plain": [
       "<BarContainer object of 8 artists>"
      ]
     },
     "execution_count": 43,
     "metadata": {},
     "output_type": "execute_result"
    },
    {
     "data": {
      "image/png": "[encoded data removed]",
      "text/plain": [
       "<Figure size 640x480 with 1 Axes>"
      ]
     },
     "metadata": {},
     "output_type": "display_data"
    }
   ],
   "source": []
  },
  {
   "cell_type": "markdown",
   "id": "fd36901e",
   "metadata": {
    "papermill": {
     "duration": 0.036531,
     "end_time": "2023-10-11T06:21:46.126038",
     "exception": false,
     "start_time": "2023-10-11T06:21:46.089507",
     "status": "completed"
    },
    "tags": []
   },
   "source": [
    "# Pie Chart represents the percentage experience Of Current Domain of Employees"
   ]
  },
  {
   "cell_type": "code",
   "execution_count": 44,
   "id": "e63169be",
   "metadata": {
    "execution": {
     "iopub.execute_input": "2023-10-11T06:21:46.208229Z",
     "iopub.status.busy": "2023-10-11T06:21:46.206894Z",
     "iopub.status.idle": "2023-10-11T06:21:46.385837Z",
     "shell.execute_reply": "2023-10-11T06:21:46.384305Z"
    },
    "papermill": {
     "duration": 0.225575,
     "end_time": "2023-10-11T06:21:46.390121",
     "exception": false,
     "start_time": "2023-10-11T06:21:46.164546",
     "status": "completed"
    },
    "tags": []
   },
   "outputs": [
    {
     "data": {
      "text/plain": [
       "Text(0.5, 1.0, 'Experience Ratio In Current Domain')"
      ]
     },
     "execution_count": 44,
     "metadata": {},
     "output_type": "execute_result"
    },
    {
     "data": {
      "image/png": "[encoded data removed]",
      "text/plain": [
       "<Figure size 640x480 with 1 Axes>"
      ]
     },
     "metadata": {},
     "output_type": "display_data"
    }
   ],
   "source": []
  },
  {
   "cell_type": "markdown",
   "id": "56a6caff",
   "metadata": {
    "papermill": {
     "duration": 0.039227,
     "end_time": "2023-10-11T06:21:46.500185",
     "exception": false,
     "start_time": "2023-10-11T06:21:46.460958",
     "status": "completed"
    },
    "tags": []
   },
   "source": [
    "\n"
   ]
  }
 ],
 "metadata": {
  "kernelspec": {
   "display_name": "Python 3 (ipykernel)",
   "language": "python",
   "name": "python3"
  },
  "language_info": {
   "codemirror_mode": {
    "name": "ipython",
    "version": 3
   },
   "file_extension": ".py",
   "mimetype": "text/x-python",
   "name": "python",
   "nbconvert_exporter": "python",
   "pygments_lexer": "ipython3",
   "version": "3.10.9"
  },
  "papermill": {
   "default_parameters": {},
   "duration": 133.031296,
   "end_time": "2023-10-11T06:23:42.421881",
   "environment_variables": {},
   "exception": null,
   "input_path": "__notebook__.ipynb",
   "output_path": "__notebook__.ipynb",
   "parameters": {},
   "start_time": "2023-10-11T06:21:29.390585",
   "version": "2.4.0"
  }
 },
 "nbformat": 4,
 "nbformat_minor": 5
}
