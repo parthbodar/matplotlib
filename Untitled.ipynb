{
 "cells": [
  {
   "cell_type": "code",
   "execution_count": 1,
   "id": "d8164711",
   "metadata": {},
   "outputs": [
    {
     "data": {
      "text/plain": [
       "45.2"
      ]
     },
     "execution_count": 1,
     "metadata": {},
     "output_type": "execute_result"
    }
   ],
   "source": [
    "#round method\n",
    "\n",
    "a=45.215\n",
    "parth=(round(a,1))\n",
    "parth\n"
   ]
  },
  {
   "cell_type": "code",
   "execution_count": null,
   "id": "91b1d510",
   "metadata": {},
   "outputs": [],
   "source": [
    "def main():\n",
    "    # Step 1: Input two numbers as strings\n",
    "    num1_str = input(\"Enter the first number: \")\n",
    "    num2_str = input(\"Enter the second number: \")\n",
    "\n",
    "    # Step 2: Convert strings to numbers (integer or floating-point)\n",
    "    num1 = str(num1_str)\n",
    "    num2 = str(num2_str)\n",
    "    num3 = int(num2)\n",
    "    num4 = int(num1)\n",
    "    # Step 3: Calculate the sum\n",
    "    result = num4 + num3\n",
    "\n",
    "    # Step 4: Display the result\n",
    "    print(\"The sum of\", num1, \"and\", num2, \"is:\", result)\n",
    "\n",
    "if __name__ == \"__main__\":\n",
    "    main()\n"
   ]
  },
  {
   "cell_type": "code",
   "execution_count": null,
   "id": "c35cbee1",
   "metadata": {},
   "outputs": [],
   "source": [
    "import pandas as pd\n",
    "import seaborn as sns\n",
    "\n",
    "url = \"iris.csv\"\n",
    "data = pd.read_csv(url)\n",
    "\n",
    "sns.lineplot(x=\"sepal_length\", y=\"sepal_width\", data=data)\n"
   ]
  },
  {
   "cell_type": "code",
   "execution_count": null,
   "id": "34395270",
   "metadata": {
    "scrolled": true
   },
   "outputs": [],
   "source": [
    "import pandas as pd\n",
    "import seaborn as sns\n",
    "\n",
    "url = \"iris.csv\"\n",
    "data = pd.read_csv(url)\n",
    "\n",
    "sns.lineplot(x=\"sepal_length\", y=\"sepal_width\", data=data, color=\"blue\", label=\"sepal_width\")\n",
    "sns.lineplot(x=\"sepal_length\", y=\"petal_length\", data=data, color=\"red\", label=\"petal_length\")\n"
   ]
  },
  {
   "cell_type": "code",
   "execution_count": null,
   "id": "661b77cc",
   "metadata": {},
   "outputs": [],
   "source": [
    "my\n"
   ]
  },
  {
   "cell_type": "code",
   "execution_count": null,
   "id": "69eff182",
   "metadata": {},
   "outputs": [],
   "source": [
    "my[1]"
   ]
  },
  {
   "cell_type": "code",
   "execution_count": null,
   "id": "d79fe326",
   "metadata": {},
   "outputs": [],
   "source": [
    "my[0:2]"
   ]
  },
  {
   "cell_type": "code",
   "execution_count": null,
   "id": "48c2ec16",
   "metadata": {},
   "outputs": [],
   "source": [
    "my1=\"apple,menog,fruti\"\n",
    "my1"
   ]
  },
  {
   "cell_type": "code",
   "execution_count": null,
   "id": "8b22c314",
   "metadata": {},
   "outputs": [],
   "source": [
    "my1.split(\"e\")"
   ]
  },
  {
   "cell_type": "code",
   "execution_count": null,
   "id": "bd149bea",
   "metadata": {},
   "outputs": [],
   "source": [
    "tup1=(1,3.14,True,2,(2-3j))\n",
    "tup1"
   ]
  },
  {
   "cell_type": "code",
   "execution_count": null,
   "id": "60570064",
   "metadata": {},
   "outputs": [],
   "source": [
    "type(tup1)"
   ]
  },
  {
   "cell_type": "code",
   "execution_count": null,
   "id": "ade81402",
   "metadata": {},
   "outputs": [],
   "source": [
    "tup1[1:2]"
   ]
  },
  {
   "cell_type": "code",
   "execution_count": null,
   "id": "fe8a8ce6",
   "metadata": {},
   "outputs": [],
   "source": [
    "a=10\n",
    "b=20"
   ]
  },
  {
   "cell_type": "code",
   "execution_count": null,
   "id": "af84a83d",
   "metadata": {},
   "outputs": [],
   "source": [
    "if  b>a:\n",
    "    print(\"b is good then a\")"
   ]
  },
  {
   "cell_type": "code",
   "execution_count": null,
   "id": "f618b74a",
   "metadata": {},
   "outputs": [],
   "source": [
    "if  a>b:\n",
    "    print(\"a is good then b\")\n",
    "else:\n",
    "        print(\"b is good  then a\")"
   ]
  },
  {
   "cell_type": "code",
   "execution_count": null,
   "id": "4fc6df95",
   "metadata": {},
   "outputs": [],
   "source": [
    "a=10\n",
    "b=20\n",
    "c=30"
   ]
  },
  {
   "cell_type": "code",
   "execution_count": null,
   "id": "31607fad",
   "metadata": {},
   "outputs": [],
   "source": [
    "if (a>b)&(a>c):\n",
    "    print(\" a is a good\")\n",
    "elif  (b>a)& (b>c):\n",
    "    print(\"b is a good\")\n",
    "else:\n",
    "    print(\" c is a good\")\n",
    "    "
   ]
  },
  {
   "cell_type": "code",
   "execution_count": null,
   "id": "0445cc88",
   "metadata": {},
   "outputs": [],
   "source": [
    "t1=('a','b','c')"
   ]
  },
  {
   "cell_type": "code",
   "execution_count": null,
   "id": "661574a0",
   "metadata": {},
   "outputs": [],
   "source": [
    "if 'z' in t1:\n",
    "    print(\"z in a tup1\")\n",
    "else:\n",
    "    print(\"z is not add\")"
   ]
  },
  {
   "cell_type": "code",
   "execution_count": null,
   "id": "830030fe",
   "metadata": {},
   "outputs": [],
   "source": [
    "l1=['a','b','c']"
   ]
  },
  {
   "cell_type": "code",
   "execution_count": null,
   "id": "ea3270bd",
   "metadata": {},
   "outputs": [],
   "source": [
    "if l1[1]==\"b\":\n",
    "    l1[1]='z'\n",
    "  "
   ]
  },
  {
   "cell_type": "code",
   "execution_count": null,
   "id": "38079cd1",
   "metadata": {},
   "outputs": [],
   "source": [
    "l1\n"
   ]
  },
  {
   "cell_type": "code",
   "execution_count": null,
   "id": "3b7eba92",
   "metadata": {},
   "outputs": [],
   "source": [
    " d1={'k1':10,'k2':30}"
   ]
  },
  {
   "cell_type": "code",
   "execution_count": null,
   "id": "e1dc35bf",
   "metadata": {},
   "outputs": [],
   "source": [
    "d1\n"
   ]
  },
  {
   "cell_type": "code",
   "execution_count": null,
   "id": "36d68abd",
   "metadata": {},
   "outputs": [],
   "source": [
    "if d1['k2']==30:\n",
    "    d1['k2']=d1['k2']=10"
   ]
  },
  {
   "cell_type": "code",
   "execution_count": null,
   "id": "4f160a83",
   "metadata": {},
   "outputs": [],
   "source": [
    "d1\n"
   ]
  },
  {
   "cell_type": "code",
   "execution_count": null,
   "id": "8e09a8cc",
   "metadata": {},
   "outputs": [],
   "source": [
    "d1"
   ]
  },
  {
   "cell_type": "code",
   "execution_count": null,
   "id": "80476123",
   "metadata": {},
   "outputs": [],
   "source": [
    "if d1['k2']==30:\n",
    "    d1['k2']=d1['k2']=100"
   ]
  },
  {
   "cell_type": "code",
   "execution_count": null,
   "id": "53043e19",
   "metadata": {},
   "outputs": [],
   "source": [
    "d1"
   ]
  },
  {
   "cell_type": "code",
   "execution_count": null,
   "id": "a0a54f63",
   "metadata": {},
   "outputs": [],
   "source": [
    "# looping statements\n",
    "\n",
    "#1:30:00"
   ]
  },
  {
   "cell_type": "code",
   "execution_count": null,
   "id": "d4780bd1",
   "metadata": {},
   "outputs": [],
   "source": [
    " #while loop"
   ]
  },
  {
   "cell_type": "code",
   "execution_count": null,
   "id": "1cd8d2e2",
   "metadata": {},
   "outputs": [],
   "source": [
    "i=1\n",
    "while i<=10:\n",
    "    print(i)\n",
    "    i=i+1"
   ]
  },
  {
   "cell_type": "code",
   "execution_count": null,
   "id": "70ab1e50",
   "metadata": {},
   "outputs": [],
   "source": [
    "i=1\n",
    "n=2\n",
    "while i<=10:\n",
    "    print(n,\"*\",i,\"=\",n*i)\n",
    "    i=i+1\n",
    "    "
   ]
  },
  {
   "cell_type": "code",
   "execution_count": null,
   "id": "ecd54281",
   "metadata": {},
   "outputs": [],
   "source": [
    "# while with list"
   ]
  },
  {
   "cell_type": "code",
   "execution_count": null,
   "id": "246da9ac",
   "metadata": {},
   "outputs": [],
   "source": [
    "l1=[1,2,3,4,5]\n",
    "i=1"
   ]
  },
  {
   "cell_type": "code",
   "execution_count": null,
   "id": "d64fbdc5",
   "metadata": {},
   "outputs": [],
   "source": [
    "while i<len(l1):\n",
    "    l1[i]=l1[i]+100\n",
    "    i=i+1"
   ]
  },
  {
   "cell_type": "code",
   "execution_count": null,
   "id": "2292a319",
   "metadata": {},
   "outputs": [],
   "source": [
    "l1"
   ]
  },
  {
   "cell_type": "code",
   "execution_count": null,
   "id": "7fd88f30",
   "metadata": {},
   "outputs": [],
   "source": [
    "while i<len(ll1):\n",
    "    ll1[i]=ll1[i]+100\n",
    "    i=i+1"
   ]
  },
  {
   "cell_type": "code",
   "execution_count": null,
   "id": "8f5d59de",
   "metadata": {},
   "outputs": [],
   "source": [
    "ll1\n"
   ]
  },
  {
   "cell_type": "code",
   "execution_count": null,
   "id": "6d7a6f36",
   "metadata": {},
   "outputs": [],
   "source": [
    "#for loop\n"
   ]
  },
  {
   "cell_type": "code",
   "execution_count": null,
   "id": "6606eac3",
   "metadata": {},
   "outputs": [],
   "source": [
    "l1=['apple','mengo']"
   ]
  },
  {
   "cell_type": "code",
   "execution_count": null,
   "id": "a3f850ec",
   "metadata": {},
   "outputs": [],
   "source": [
    "for p in l1:\n",
    "    print(p)"
   ]
  },
  {
   "cell_type": "code",
   "execution_count": null,
   "id": "bcb2ef84",
   "metadata": {},
   "outputs": [],
   "source": [
    "num = 1\n",
    "while num <= 5:\n",
    "    print(num)\n",
    "    num += 1"
   ]
  },
  {
   "cell_type": "code",
   "execution_count": null,
   "id": "c698ad34",
   "metadata": {},
   "outputs": [],
   "source": []
  },
  {
   "cell_type": "code",
   "execution_count": null,
   "id": "675fed4b",
   "metadata": {},
   "outputs": [],
   "source": [
    " l1=['black','white',]\n",
    "l2=['book','leptop']"
   ]
  },
  {
   "cell_type": "code",
   "execution_count": null,
   "id": "ca12201c",
   "metadata": {},
   "outputs": [],
   "source": [
    "for i in l1:\n",
    "    for j in l2:\n",
    "        print(i,j)"
   ]
  },
  {
   "cell_type": "code",
   "execution_count": null,
   "id": "46a8d764",
   "metadata": {},
   "outputs": [],
   "source": [
    " #python functions\n",
    "    \n",
    "    def hello():\n",
    "        print(\"hello word\")"
   ]
  },
  {
   "cell_type": "code",
   "execution_count": null,
   "id": "68a51467",
   "metadata": {},
   "outputs": [],
   "source": [
    "hello()"
   ]
  },
  {
   "cell_type": "code",
   "execution_count": null,
   "id": "af38c00b",
   "metadata": {},
   "outputs": [],
   "source": [
    "def parth(x):\n",
    "    return x+20\n",
    "    "
   ]
  },
  {
   "cell_type": "code",
   "execution_count": null,
   "id": "18cddea0",
   "metadata": {},
   "outputs": [],
   "source": [
    "def parth(x):\n",
    "    return x*20"
   ]
  },
  {
   "cell_type": "code",
   "execution_count": null,
   "id": "7b697125",
   "metadata": {},
   "outputs": [],
   "source": [
    "parth(10)"
   ]
  },
  {
   "cell_type": "code",
   "execution_count": null,
   "id": "c1c08d88",
   "metadata": {},
   "outputs": [],
   "source": [
    "parth(5)"
   ]
  },
  {
   "cell_type": "code",
   "execution_count": null,
   "id": "42e6a081",
   "metadata": {},
   "outputs": [],
   "source": [
    "def odd_even(x):\n",
    "    if x*1==0:\n",
    "        print(x,\"odd is number\")\n",
    "    else :\n",
    "        print(x,\"event is number\")"
   ]
  },
  {
   "cell_type": "markdown",
   "id": "30cf6fd7",
   "metadata": {},
   "source": [
    "# odd_even(2)"
   ]
  },
  {
   "cell_type": "code",
   "execution_count": null,
   "id": "9a5c75e7",
   "metadata": {},
   "outputs": [],
   "source": [
    "odd_even()"
   ]
  },
  {
   "cell_type": "code",
   "execution_count": null,
   "id": "a2ac4d54",
   "metadata": {},
   "outputs": [],
   "source": [
    "#lambda\n",
    "\n",
    "\n",
    "p =lambda x: x*x*x"
   ]
  },
  {
   "cell_type": "code",
   "execution_count": null,
   "id": "5f865f87",
   "metadata": {},
   "outputs": [],
   "source": [
    "p(10)"
   ]
  },
  {
   "cell_type": "code",
   "execution_count": null,
   "id": "38d1d620",
   "metadata": {},
   "outputs": [],
   "source": [
    "p(5)"
   ]
  },
  {
   "cell_type": "code",
   "execution_count": null,
   "id": "a43e12db",
   "metadata": {},
   "outputs": [],
   "source": [
    "#lambda with filter\n",
    "l1=[154,545,15,5155,554,0]\n",
    "filnal=list(filter(lambda x:(x/2!=0),l1))"
   ]
  },
  {
   "cell_type": "code",
   "execution_count": null,
   "id": "aa35300e",
   "metadata": {},
   "outputs": [],
   "source": [
    "filnal"
   ]
  },
  {
   "cell_type": "code",
   "execution_count": null,
   "id": "296d86f3",
   "metadata": {},
   "outputs": [],
   "source": [
    "#lambda wirh map\n",
    "l1=[1,2,3,4,9,5,6,7,8,]\n",
    "\n",
    "final=list(map(lambda x: x*2,l1))\n"
   ]
  },
  {
   "cell_type": "code",
   "execution_count": null,
   "id": "b3f4fcd6",
   "metadata": {},
   "outputs": [],
   "source": [
    "final\n"
   ]
  },
  {
   "cell_type": "code",
   "execution_count": null,
   "id": "9f7b3ebe",
   "metadata": {},
   "outputs": [],
   "source": [
    " #from functools import reduce\n"
   ]
  },
  {
   "cell_type": "code",
   "execution_count": null,
   "id": "75932cc0",
   "metadata": {},
   "outputs": [],
   "source": [
    "sum=reduce(lambda x,y:x+y,l1) "
   ]
  },
  {
   "cell_type": "code",
   "execution_count": null,
   "id": "ded3e198",
   "metadata": {},
   "outputs": [],
   "source": [
    "sum"
   ]
  },
  {
   "cell_type": "code",
   "execution_count": null,
   "id": "85004f6c",
   "metadata": {},
   "outputs": [],
   "source": [
    "#PYTHON  objcet orinted programing "
   ]
  },
  {
   "cell_type": "code",
   "execution_count": null,
   "id": "7043d251",
   "metadata": {},
   "outputs": [],
   "source": [
    "class phone:\n",
    "    def call(self):\n",
    "        print(\"make the call\")\n",
    "    def game(self):\n",
    "        print(\"play to game\")\n",
    "        \n",
    "        "
   ]
  },
  {
   "cell_type": "code",
   "execution_count": null,
   "id": "de0e3e25",
   "metadata": {},
   "outputs": [],
   "source": [
    "p1=phone()"
   ]
  },
  {
   "cell_type": "code",
   "execution_count": null,
   "id": "3efc88b8",
   "metadata": {},
   "outputs": [],
   "source": [
    "p1.call()"
   ]
  },
  {
   "cell_type": "code",
   "execution_count": null,
   "id": "5e8f7c2b",
   "metadata": {},
   "outputs": [],
   "source": [
    "p1.game()"
   ]
  },
  {
   "cell_type": "code",
   "execution_count": null,
   "id": "1561c9ce",
   "metadata": {},
   "outputs": [],
   "source": [
    "# adding parameters to the class"
   ]
  },
  {
   "cell_type": "code",
   "execution_count": null,
   "id": "23a53d90",
   "metadata": {},
   "outputs": [],
   "source": [
    "class phone:\n",
    "    def setcolor(self,color):\n",
    "        self.color=color\n",
    "    def setcost(self,cost):\n",
    "        self.cost=cost\n",
    "    def showcolor(self):\n",
    "        return self.color\n",
    "    def showcost(self):\n",
    "        return self.cost\n",
    "    def call(self):\n",
    "        print(\"make the call\")\n",
    "    def game(self):\n",
    "        print(\"play to game\")\n",
    "            "
   ]
  },
  {
   "cell_type": "code",
   "execution_count": null,
   "id": "014199ca",
   "metadata": {},
   "outputs": [],
   "source": [
    "p2=phone()"
   ]
  },
  {
   "cell_type": "code",
   "execution_count": null,
   "id": "4b2e50f6",
   "metadata": {},
   "outputs": [],
   "source": [
    "p2.setcolor(\"blue\")"
   ]
  },
  {
   "cell_type": "code",
   "execution_count": null,
   "id": "409277dd",
   "metadata": {},
   "outputs": [],
   "source": [
    "p2.showcolor()"
   ]
  },
  {
   "cell_type": "code",
   "execution_count": null,
   "id": "0dee9c29",
   "metadata": {},
   "outputs": [],
   "source": [
    "p2.setcost(1000)"
   ]
  },
  {
   "cell_type": "code",
   "execution_count": null,
   "id": "e145cfa8",
   "metadata": {},
   "outputs": [],
   "source": [
    "p2.showcost()"
   ]
  },
  {
   "cell_type": "code",
   "execution_count": null,
   "id": "1b8745b7",
   "metadata": {},
   "outputs": [],
   "source": [
    "#creating a class with constructor"
   ]
  },
  {
   "cell_type": "code",
   "execution_count": null,
   "id": "4d44eb69",
   "metadata": {},
   "outputs": [],
   "source": [
    "class emp:\n",
    "    def __init__(self,name,age,salary,gender):\n",
    "        self.name = name\n",
    "        self.age = age\n",
    "        self.salary = salary\n",
    "        self.gender = gender\n",
    "        \n",
    "    def show_emp_detail(self):\n",
    "        print(\"name of emp is\",self.name)\n",
    "        print(\"age of age is\",self.age)\n",
    "        print(\"salary of salary is\",self.salary)\n",
    "        print(\"gender of gender is\",self.gender)\n",
    "        \n",
    "    "
   ]
  },
  {
   "cell_type": "code",
   "execution_count": null,
   "id": "ae732a1d",
   "metadata": {},
   "outputs": [],
   "source": [
    "p1 =emp('ram',10,1000,'male')"
   ]
  },
  {
   "cell_type": "code",
   "execution_count": null,
   "id": "77fa77b2",
   "metadata": {},
   "outputs": [],
   "source": [
    "p1.show_emp_detail()"
   ]
  },
  {
   "cell_type": "code",
   "execution_count": null,
   "id": "47d789a7",
   "metadata": {},
   "outputs": [],
   "source": [
    "#inheritace in python\n"
   ]
  },
  {
   "cell_type": "code",
   "execution_count": null,
   "id": "6ab5f5d2",
   "metadata": {},
   "outputs": [],
   "source": [
    "class parth:\n",
    "    def __init__(self,mileage):\n",
    "        self.mileage = mileage\n",
    "        \n",
    "        \n",
    "        \n",
    "    def show(self):\n",
    "        print(\"mileage of vehicle is\",self.mileage)\n",
    "       \n",
    "      \n",
    "         \n",
    "v2 = parth(100)    "
   ]
  },
  {
   "cell_type": "code",
   "execution_count": null,
   "id": "43fe4407",
   "metadata": {},
   "outputs": [],
   "source": [
    "v2.show()"
   ]
  },
  {
   "cell_type": "markdown",
   "id": "c00c7276",
   "metadata": {},
   "source": [
    " "
   ]
  },
  {
   "cell_type": "code",
   "execution_count": null,
   "id": "611754be",
   "metadata": {},
   "outputs": [],
   "source": [
    "class car1:\n",
    "    def __init__(self,cost):\n",
    "        self.cost = cost\n",
    " \n",
    "\n",
    "    def prints(self):\n",
    "        print(\"cost if vehocle is\",(self.cost))\n",
    "        print(\"all the good cars\")\n",
    " \n",
    "\n"
   ]
  },
  {
   "cell_type": "code",
   "execution_count": null,
   "id": "87d63c19",
   "metadata": {},
   "outputs": [],
   "source": [
    "obj = car1(100)"
   ]
  },
  {
   "cell_type": "code",
   "execution_count": null,
   "id": "d5cef7f8",
   "metadata": {},
   "outputs": [],
   "source": [
    "obj.prints()"
   ]
  },
  {
   "cell_type": "code",
   "execution_count": null,
   "id": "4b370d58",
   "metadata": {},
   "outputs": [],
   "source": [
    "name =(input(\" name:\"))\n",
    "age  =int(input(\" age:\"))\n",
    "email=(input(\" email:\"))\n",
    "\n",
    "\n",
    "print(\"name\\t:\\t{name}\\nage\\t:\\t{age}\\t:\\t\\nemail}\")\n"
   ]
  },
  {
   "cell_type": "code",
   "execution_count": null,
   "id": "7e5de01e",
   "metadata": {},
   "outputs": [],
   "source": [
    "#over-riding  init method "
   ]
  },
  {
   "cell_type": "code",
   "execution_count": null,
   "id": "70c930dc",
   "metadata": {},
   "outputs": [],
   "source": [
    "class car(car1):\n",
    "    def __init__(self,cost,tyres,hp):\n",
    "        super().__init__(cost)\n",
    "        self.tyres=tyres\n",
    "        self.hp=hp\n",
    "        \n",
    "        \n",
    "    def showcardetail(self):\n",
    "        print(\"car in:\",self.tyres)\n",
    "        print(\"car in:\",self.hp)\n",
    "        \n",
    "\n",
    "\n"
   ]
  },
  {
   "cell_type": "code",
   "execution_count": null,
   "id": "a1ee7c1b",
   "metadata": {},
   "outputs": [],
   "source": [
    "c1= car(1200,8,130)"
   ]
  },
  {
   "cell_type": "code",
   "execution_count": null,
   "id": "4fc66195",
   "metadata": {},
   "outputs": [],
   "source": [
    "c1.showcardetail()"
   ]
  },
  {
   "cell_type": "code",
   "execution_count": null,
   "id": "f9cc0a76",
   "metadata": {},
   "outputs": [],
   "source": [
    "#multiple inheritance in pythn\n"
   ]
  },
  {
   "cell_type": "code",
   "execution_count": null,
   "id": "594c477d",
   "metadata": {},
   "outputs": [],
   "source": [
    "class parent1:\n",
    "    def strr1(self,str1):\n",
    "        self.str1=str1\n",
    "        \n",
    "    def show_strr1(self):\n",
    "        return  self.str1"
   ]
  },
  {
   "cell_type": "code",
   "execution_count": null,
   "id": "7c4d816e",
   "metadata": {},
   "outputs": [],
   "source": [
    "class parent2:\n",
    "    def strr2(self,str2):\n",
    "        self.str2=str2\n",
    "        \n",
    "    def show_strr2(self):\n",
    "        return self.str2"
   ]
  },
  {
   "cell_type": "code",
   "execution_count": null,
   "id": "24eec59a",
   "metadata": {},
   "outputs": [],
   "source": [
    "class child(parent1,parent2):\n",
    "    def chiidd1(self,child1):\n",
    "        self.child1=child1\n",
    "        \n",
    "    def show_child1(self):\n",
    "        return self.child1"
   ]
  },
  {
   "cell_type": "code",
   "execution_count": null,
   "id": "99cf219b",
   "metadata": {},
   "outputs": [],
   "source": [
    "my_child=child()"
   ]
  },
  {
   "cell_type": "code",
   "execution_count": null,
   "id": "47260f64",
   "metadata": {},
   "outputs": [],
   "source": [
    "my_child.strr1(\"i am string of parent 1\")"
   ]
  },
  {
   "cell_type": "code",
   "execution_count": null,
   "id": "57039b2f",
   "metadata": {},
   "outputs": [],
   "source": [
    "my_child.strr2(\"i am string of parent 2\")"
   ]
  },
  {
   "cell_type": "code",
   "execution_count": null,
   "id": "7ccf30a2",
   "metadata": {},
   "outputs": [],
   "source": [
    "my_child.chiidd1(\" i am string of child\")"
   ]
  },
  {
   "cell_type": "code",
   "execution_count": null,
   "id": "0afcf103",
   "metadata": {},
   "outputs": [],
   "source": [
    "my_child.show_strr1()"
   ]
  },
  {
   "cell_type": "code",
   "execution_count": null,
   "id": "e3f9673f",
   "metadata": {},
   "outputs": [],
   "source": [
    "my_child.show_strr2()"
   ]
  },
  {
   "cell_type": "code",
   "execution_count": null,
   "id": "92d63b00",
   "metadata": {},
   "outputs": [],
   "source": [
    "my_child.show_child1()"
   ]
  },
  {
   "cell_type": "code",
   "execution_count": null,
   "id": "d87e3151",
   "metadata": {},
   "outputs": [],
   "source": [
    "#multi-level inheritace in python\n"
   ]
  },
  {
   "cell_type": "code",
   "execution_count": null,
   "id": "fc975420",
   "metadata": {},
   "outputs": [],
   "source": [
    "class parent1:\n",
    "    def strr1(self,str1):\n",
    "         self.str1=str1\n",
    "    def show_str1(self):\n",
    "        return self.str1\n",
    "        "
   ]
  },
  {
   "cell_type": "code",
   "execution_count": null,
   "id": "4ba9a3dd",
   "metadata": {},
   "outputs": [],
   "source": [
    "class child(parent1):\n",
    "    def strr2(self,str2):\n",
    "        self.str2=str2\n",
    "    def show_str2(self):\n",
    "        return self.str2"
   ]
  },
  {
   "cell_type": "code",
   "execution_count": null,
   "id": "493c30a0",
   "metadata": {},
   "outputs": [],
   "source": [
    "class grendchild(child):\n",
    "    def strr3(self,str3):\n",
    "        self.str3=str3\n",
    "    def show_str3(self):\n",
    "        return self.str3"
   ]
  },
  {
   "cell_type": "code",
   "execution_count": null,
   "id": "61606e24",
   "metadata": {},
   "outputs": [],
   "source": [
    "my_child=grendchild()"
   ]
  },
  {
   "cell_type": "code",
   "execution_count": null,
   "id": "468f0f82",
   "metadata": {},
   "outputs": [],
   "source": [
    "my_child.strr1(\"i am parent1\")"
   ]
  },
  {
   "cell_type": "code",
   "execution_count": null,
   "id": "e03e304d",
   "metadata": {},
   "outputs": [],
   "source": [
    "my_child.strr2(\"i am child\")"
   ]
  },
  {
   "cell_type": "code",
   "execution_count": null,
   "id": "b0ee6536",
   "metadata": {},
   "outputs": [],
   "source": [
    "my_child.strr3(\"i am grand child\")"
   ]
  },
  {
   "cell_type": "code",
   "execution_count": null,
   "id": "5b087b6c",
   "metadata": {},
   "outputs": [],
   "source": [
    "my_child.show_str1()"
   ]
  },
  {
   "cell_type": "code",
   "execution_count": null,
   "id": "e6690fcb",
   "metadata": {},
   "outputs": [],
   "source": [
    "my_child.show_str2()"
   ]
  },
  {
   "cell_type": "code",
   "execution_count": null,
   "id": "2916c60a",
   "metadata": {},
   "outputs": [],
   "source": [
    "my_child.show_str3()"
   ]
  },
  {
   "cell_type": "code",
   "execution_count": null,
   "id": "43cc2310",
   "metadata": {},
   "outputs": [],
   "source": [
    "# python in library\n",
    "\n",
    "# numpy in python"
   ]
  },
  {
   "cell_type": "code",
   "execution_count": null,
   "id": "46019393",
   "metadata": {},
   "outputs": [],
   "source": [
    "#single -dimensional array\n",
    "import numpy as np\n",
    "l1=([1,2,3,4])\n",
    "n1=np.array(l1)"
   ]
  },
  {
   "cell_type": "code",
   "execution_count": null,
   "id": "b6254abc",
   "metadata": {},
   "outputs": [],
   "source": [
    "n1"
   ]
  },
  {
   "cell_type": "code",
   "execution_count": null,
   "id": "9cd9acb6",
   "metadata": {},
   "outputs": [],
   "source": [
    "#multiple -dimensional array\n",
    "type(n1)"
   ]
  },
  {
   "cell_type": "code",
   "execution_count": null,
   "id": "3fad998e",
   "metadata": {},
   "outputs": [],
   "source": [
    "n2=np.array([[1,2,3,4],[4,5,6,7]])"
   ]
  },
  {
   "cell_type": "markdown",
   "id": "fd8a7c3a",
   "metadata": {},
   "source": []
  },
  {
   "cell_type": "code",
   "execution_count": null,
   "id": "6c4ba566",
   "metadata": {},
   "outputs": [],
   "source": [
    "n2"
   ]
  },
  {
   "cell_type": "code",
   "execution_count": null,
   "id": "e2eeb473",
   "metadata": {},
   "outputs": [],
   "source": [
    "type(n2)"
   ]
  },
  {
   "cell_type": "code",
   "execution_count": null,
   "id": "6f426cd4",
   "metadata": {},
   "outputs": [],
   "source": [
    "# zeros method\n",
    "import numpy as np\n",
    "\n",
    "n3=np.zeros((10,5))"
   ]
  },
  {
   "cell_type": "code",
   "execution_count": null,
   "id": "20257978",
   "metadata": {},
   "outputs": [],
   "source": [
    "n3"
   ]
  },
  {
   "cell_type": "code",
   "execution_count": null,
   "id": "661e89ba",
   "metadata": {},
   "outputs": [],
   "source": [
    "type(n3)"
   ]
  },
  {
   "cell_type": "code",
   "execution_count": null,
   "id": "fb5720b8",
   "metadata": {},
   "outputs": [],
   "source": [
    "#full methods\n",
    "n4 =np.full((2,10),100)"
   ]
  },
  {
   "cell_type": "code",
   "execution_count": null,
   "id": "3d2be132",
   "metadata": {},
   "outputs": [],
   "source": [
    "n4"
   ]
  },
  {
   "cell_type": "code",
   "execution_count": null,
   "id": "9ad40d29",
   "metadata": {},
   "outputs": [],
   "source": [
    "#arange method\n",
    "\n",
    "n5=np.arange(10,30)"
   ]
  },
  {
   "cell_type": "code",
   "execution_count": null,
   "id": "6b3d9456",
   "metadata": {},
   "outputs": [],
   "source": [
    "n5"
   ]
  },
  {
   "cell_type": "code",
   "execution_count": null,
   "id": "b8063392",
   "metadata": {},
   "outputs": [],
   "source": [
    "n5=np.arange(10,50,8)"
   ]
  },
  {
   "cell_type": "code",
   "execution_count": null,
   "id": "628f2291",
   "metadata": {},
   "outputs": [],
   "source": [
    "n5"
   ]
  },
  {
   "cell_type": "code",
   "execution_count": null,
   "id": "eeca49e9",
   "metadata": {},
   "outputs": [],
   "source": [
    "#random.randint method\n",
    "\n",
    "import numpy as np\n",
    "n6=np.random.randint(100,200,10)"
   ]
  },
  {
   "cell_type": "code",
   "execution_count": null,
   "id": "50bacfaf",
   "metadata": {},
   "outputs": [],
   "source": [
    "n6"
   ]
  },
  {
   "cell_type": "markdown",
   "id": "c4dbd75c",
   "metadata": {},
   "source": []
  },
  {
   "cell_type": "code",
   "execution_count": null,
   "id": "e5698578",
   "metadata": {},
   "outputs": [],
   "source": [
    "#numpy-shape\n",
    "\n",
    "import numpy as np\n",
    "n1=np.array([[1,2,2],[3,5,8]])\n"
   ]
  },
  {
   "cell_type": "code",
   "execution_count": null,
   "id": "a1b980db",
   "metadata": {},
   "outputs": [],
   "source": [
    "n1"
   ]
  },
  {
   "cell_type": "code",
   "execution_count": null,
   "id": "40758c14",
   "metadata": {},
   "outputs": [],
   "source": [
    "n1.shape=(3,2) "
   ]
  },
  {
   "cell_type": "code",
   "execution_count": null,
   "id": "378c5f17",
   "metadata": {},
   "outputs": [],
   "source": [
    "n1"
   ]
  },
  {
   "cell_type": "code",
   "execution_count": null,
   "id": "a52691b4",
   "metadata": {},
   "outputs": [],
   "source": [
    "n1.shape=(6,1)"
   ]
  },
  {
   "cell_type": "code",
   "execution_count": null,
   "id": "3dfcb27a",
   "metadata": {},
   "outputs": [],
   "source": [
    "n1"
   ]
  },
  {
   "cell_type": "code",
   "execution_count": null,
   "id": "96903407",
   "metadata": {},
   "outputs": [],
   "source": [
    "#joining numpy array "
   ]
  },
  {
   "cell_type": "code",
   "execution_count": null,
   "id": "309f430c",
   "metadata": {},
   "outputs": [],
   "source": [
    "#vstack\n",
    "\n",
    "import numpy as np\n",
    "n1=np.array([1,2,30])\n",
    "n2=np.array([5,6,9])\n",
    "\n",
    "\n",
    "np.vstack((n1,n2))"
   ]
  },
  {
   "cell_type": "code",
   "execution_count": null,
   "id": "2f65e8bc",
   "metadata": {},
   "outputs": [],
   "source": [
    "\n",
    "#hstack\n",
    "\n",
    "np.hstack((n1,n2))"
   ]
  },
  {
   "cell_type": "code",
   "execution_count": null,
   "id": "f1977b46",
   "metadata": {},
   "outputs": [],
   "source": [
    "#column_stack\n",
    "\n",
    "np.column_stack((n1,n2))"
   ]
  },
  {
   "cell_type": "code",
   "execution_count": null,
   "id": "fe26fcfc",
   "metadata": {},
   "outputs": [],
   "source": [
    "#numpy intersection& defferece"
   ]
  },
  {
   "cell_type": "code",
   "execution_count": null,
   "id": "f2833512",
   "metadata": {},
   "outputs": [],
   "source": [
    "#intersect1d method\n",
    "\n",
    "import numpy as np\n",
    "n1=np.array([1,2,3,4,5])\n",
    "n2=np.array([4,5,6,7,8,9])\n",
    "\n",
    "np.intersect1d(n1,n2)"
   ]
  },
  {
   "cell_type": "code",
   "execution_count": null,
   "id": "566b33e8",
   "metadata": {},
   "outputs": [],
   "source": [
    "#setdiff1d method\n",
    "\n",
    "np.setdiff1d(n1,n2)"
   ]
  },
  {
   "cell_type": "code",
   "execution_count": null,
   "id": "e705cc74",
   "metadata": {},
   "outputs": [],
   "source": [
    "np.setdiff1d(n2,n1)"
   ]
  },
  {
   "cell_type": "code",
   "execution_count": null,
   "id": "93951902",
   "metadata": {},
   "outputs": [],
   "source": [
    "#numpy array mathematics\n",
    "\n",
    "import numpy as np\n",
    "\n",
    "n1=np.array([10,20])\n",
    "n2=np.array([40,50,])\n",
    "\n",
    "\n",
    "# sum\n",
    "np.sum((n1,n2))"
   ]
  },
  {
   "cell_type": "code",
   "execution_count": null,
   "id": "b2ede99e",
   "metadata": {},
   "outputs": [],
   "source": [
    "#axis mthods\n",
    "\n",
    "np.sum((n1,n2),axis=0)"
   ]
  },
  {
   "cell_type": "code",
   "execution_count": null,
   "id": "7e2c0908",
   "metadata": {},
   "outputs": [],
   "source": [
    "np.sum((n1,n2),axis=1)"
   ]
  },
  {
   "cell_type": "code",
   "execution_count": null,
   "id": "c6c611fb",
   "metadata": {},
   "outputs": [],
   "source": [
    "#+-*- method\n",
    "\n",
    "import numpy as np\n",
    "\n",
    "n1=np.array([10,20])\n",
    "n1=n1+1\n",
    "n1"
   ]
  },
  {
   "cell_type": "code",
   "execution_count": null,
   "id": "3cb68d89",
   "metadata": {},
   "outputs": [],
   "source": [
    "n1=np.array([10,20])\n",
    "n1=n1-9\n",
    "n1"
   ]
  },
  {
   "cell_type": "code",
   "execution_count": null,
   "id": "092d2b29",
   "metadata": {},
   "outputs": [],
   "source": [
    "n1=np.array([10,20])\n",
    "n1=n1*4\n",
    "n1"
   ]
  },
  {
   "cell_type": "code",
   "execution_count": null,
   "id": "2b9a4ca5",
   "metadata": {},
   "outputs": [],
   "source": [
    "n1=np.array([10,20])\n",
    "n1=n1/5\n",
    "n1"
   ]
  },
  {
   "cell_type": "code",
   "execution_count": null,
   "id": "d2a4feca",
   "metadata": {},
   "outputs": [],
   "source": [
    "#numpy math function"
   ]
  },
  {
   "cell_type": "code",
   "execution_count": null,
   "id": "8a64b0a2",
   "metadata": {},
   "outputs": [],
   "source": [
    "#mean\n",
    "\n",
    "n1=np.array([10,20])\n",
    "np.mean(n1)"
   ]
  },
  {
   "cell_type": "code",
   "execution_count": null,
   "id": "31b93654",
   "metadata": {},
   "outputs": [],
   "source": [
    "#median\n",
    "\n",
    "n1=np.array([10,20,54,85,79,99,9])\n",
    "np.median(n1)"
   ]
  },
  {
   "cell_type": "code",
   "execution_count": null,
   "id": "d87cd259",
   "metadata": {},
   "outputs": [],
   "source": [
    "#standard deviation\n",
    "\n",
    "n1=np.array([10,20,65,9,659,6])\n",
    "np.std(n1)"
   ]
  },
  {
   "cell_type": "code",
   "execution_count": null,
   "id": "d64b0c37",
   "metadata": {},
   "outputs": [],
   "source": [
    "#numpy save&load\n",
    "\n",
    "import numpy as np\n",
    "n1=np.array([11,2,3,4,45,5,6,4,7,7])\n",
    "np.save('parth',n1)\n",
    "\n",
    "\n",
    "#load\n",
    "\n",
    "np.load('parth.npy')"
   ]
  },
  {
   "cell_type": "code",
   "execution_count": null,
   "id": "445de016",
   "metadata": {},
   "outputs": [],
   "source": [
    "#python pandas"
   ]
  },
  {
   "cell_type": "code",
   "execution_count": null,
   "id": "9a3e0a4c",
   "metadata": {},
   "outputs": [],
   "source": [
    "import pandas as pd"
   ]
  },
  {
   "cell_type": "code",
   "execution_count": null,
   "id": "ff4e8dc9",
   "metadata": {},
   "outputs": [],
   "source": [
    "#Series\n",
    "\n",
    "s1 = pd.Series([1,2,3,4,5])"
   ]
  },
  {
   "cell_type": "code",
   "execution_count": null,
   "id": "86cb2e71",
   "metadata": {},
   "outputs": [],
   "source": [
    "s1"
   ]
  },
  {
   "cell_type": "code",
   "execution_count": null,
   "id": "3af00302",
   "metadata": {},
   "outputs": [],
   "source": [
    "type(s1)"
   ]
  },
  {
   "cell_type": "code",
   "execution_count": null,
   "id": "8ee0fb32",
   "metadata": {},
   "outputs": [],
   "source": [
    "s1 = pd.Series([1,2,3,4,5],index=['a','b','c','d','e'])"
   ]
  },
  {
   "cell_type": "code",
   "execution_count": null,
   "id": "618cd331",
   "metadata": {},
   "outputs": [],
   "source": [
    "s1"
   ]
  },
  {
   "cell_type": "code",
   "execution_count": null,
   "id": "e5046cab",
   "metadata": {},
   "outputs": [],
   "source": [
    "import pandas as pd\n",
    "\n",
    "pd.Series({'a':1,'b':2,'w':3,'w':4,'e':5})"
   ]
  },
  {
   "cell_type": "code",
   "execution_count": null,
   "id": "ef525123",
   "metadata": {},
   "outputs": [],
   "source": [
    "#chaning index position\n"
   ]
  },
  {
   "cell_type": "code",
   "execution_count": null,
   "id": "847ef924",
   "metadata": {},
   "outputs": [],
   "source": [
    " s5=pd.Series({'a':1,'b':2,'w':3,'w':4,'e':5},index=['k1','p','ss','ap','a'])"
   ]
  },
  {
   "cell_type": "code",
   "execution_count": null,
   "id": "cd7bb0c0",
   "metadata": {},
   "outputs": [],
   "source": [
    "s5"
   ]
  },
  {
   "cell_type": "code",
   "execution_count": null,
   "id": "1f53be93",
   "metadata": {},
   "outputs": [],
   "source": [
    "#EXTTRACTING value"
   ]
  },
  {
   "cell_type": "code",
   "execution_count": null,
   "id": "b035bf12",
   "metadata": {},
   "outputs": [],
   "source": [
    "s1=pd.Series([1,2,3,4,5,6,7,8,9,0])"
   ]
  },
  {
   "cell_type": "code",
   "execution_count": null,
   "id": "be7d90b8",
   "metadata": {},
   "outputs": [],
   "source": [
    "s1[2]"
   ]
  },
  {
   "cell_type": "code",
   "execution_count": null,
   "id": "a8317847",
   "metadata": {},
   "outputs": [],
   "source": [
    "s1[0:4]"
   ]
  },
  {
   "cell_type": "code",
   "execution_count": null,
   "id": "77a75b31",
   "metadata": {},
   "outputs": [],
   "source": [
    "s1[-5:]"
   ]
  },
  {
   "cell_type": "code",
   "execution_count": null,
   "id": "06c243e1",
   "metadata": {},
   "outputs": [],
   "source": [
    "# basic math operations on series "
   ]
  },
  {
   "cell_type": "code",
   "execution_count": null,
   "id": "7f259d6b",
   "metadata": {},
   "outputs": [],
   "source": [
    "s1= pd.Series([1,2,3,4,5,6,7,8,9])"
   ]
  },
  {
   "cell_type": "code",
   "execution_count": null,
   "id": "a8b835f5",
   "metadata": {},
   "outputs": [],
   "source": [
    "s1+50"
   ]
  },
  {
   "cell_type": "code",
   "execution_count": null,
   "id": "03ce1480",
   "metadata": {},
   "outputs": [],
   "source": [
    "s1= pd.Series([1,2,3,4,5,6,7,8,9])\n",
    "s2= pd.Series([1,1,2,3,4,5,6,7])"
   ]
  },
  {
   "cell_type": "code",
   "execution_count": null,
   "id": "11a4e746",
   "metadata": {},
   "outputs": [],
   "source": [
    "s1+s2"
   ]
  },
  {
   "cell_type": "code",
   "execution_count": null,
   "id": "b1c97519",
   "metadata": {},
   "outputs": [],
   "source": [
    "# dataframe"
   ]
  },
  {
   "cell_type": "code",
   "execution_count": null,
   "id": "2cc32a98",
   "metadata": {},
   "outputs": [],
   "source": [
    "import pandas as pd\n",
    "\n",
    "#DataFrame\n",
    "s1=pd.DataFrame({'name':['parth','jay','palak'],'marks':[123,455,676]})"
   ]
  },
  {
   "cell_type": "code",
   "execution_count": null,
   "id": "f3b4c7d9",
   "metadata": {
    "scrolled": true
   },
   "outputs": [],
   "source": [
    "s1"
   ]
  },
  {
   "cell_type": "code",
   "execution_count": null,
   "id": "d2a091c4",
   "metadata": {},
   "outputs": [],
   "source": [
    "import pandas as pd\n",
    "\n",
    "DataSet =pd.read_csv('parth1.csv')\n"
   ]
  },
  {
   "cell_type": "code",
   "execution_count": null,
   "id": "85ec01b4",
   "metadata": {},
   "outputs": [],
   "source": [
    "#HEAD METHOD \n",
    "\n",
    "DataSet.head()"
   ]
  },
  {
   "cell_type": "code",
   "execution_count": null,
   "id": "af4d6394",
   "metadata": {},
   "outputs": [],
   "source": [
    "#tail method\n",
    "DataSet.tail()"
   ]
  },
  {
   "cell_type": "code",
   "execution_count": null,
   "id": "32767916",
   "metadata": {},
   "outputs": [],
   "source": [
    "#shape method\n",
    "\n",
    "DataSet.shape"
   ]
  },
  {
   "cell_type": "code",
   "execution_count": null,
   "id": "76a9b596",
   "metadata": {},
   "outputs": [],
   "source": [
    "#describe method\n",
    "\n",
    "DataSet.describe()"
   ]
  },
  {
   "cell_type": "code",
   "execution_count": null,
   "id": "77908c44",
   "metadata": {},
   "outputs": [],
   "source": [
    "#.iloc[]\n",
    "\n",
    "DataSet.iloc[0:2,0:2]"
   ]
  },
  {
   "cell_type": "code",
   "execution_count": null,
   "id": "0737770f",
   "metadata": {},
   "outputs": [],
   "source": [
    "#.loc[]\n",
    "\n",
    "DataSet.loc[1:2,'marks']"
   ]
  },
  {
   "cell_type": "code",
   "execution_count": null,
   "id": "23aea088",
   "metadata": {},
   "outputs": [],
   "source": [
    "#drop method\n",
    "\n",
    "DataSet.drop(0,axis=0)"
   ]
  },
  {
   "cell_type": "code",
   "execution_count": null,
   "id": "df96bf7c",
   "metadata": {},
   "outputs": [],
   "source": [
    "DataSet.drop('name',axis=1)"
   ]
  },
  {
   "cell_type": "code",
   "execution_count": null,
   "id": "2633cd70",
   "metadata": {},
   "outputs": [],
   "source": [
    "#more pandas functionas\n",
    "\n",
    "DataSet.mean()"
   ]
  },
  {
   "cell_type": "code",
   "execution_count": null,
   "id": "ad1d6a16",
   "metadata": {},
   "outputs": [],
   "source": [
    "DataSet.min()"
   ]
  },
  {
   "cell_type": "code",
   "execution_count": null,
   "id": "01332876",
   "metadata": {},
   "outputs": [],
   "source": [
    "DataSet.max()"
   ]
  },
  {
   "cell_type": "code",
   "execution_count": null,
   "id": "2134cb94",
   "metadata": {},
   "outputs": [],
   "source": [
    "DataSet.median()"
   ]
  },
  {
   "cell_type": "code",
   "execution_count": null,
   "id": "7dc5dc3f",
   "metadata": {},
   "outputs": [],
   "source": [
    "#half method\n",
    "\n",
    "def half(s):\n",
    "    return s*0.5\n",
    "\n",
    "\n",
    "DataSet[['marks']].apply(half)\n"
   ]
  },
  {
   "cell_type": "code",
   "execution_count": null,
   "id": "be0e9851",
   "metadata": {},
   "outputs": [],
   "source": [
    "#double method\n",
    "\n",
    "def double_make(s):\n",
    "    return s*2\n",
    "\n",
    "DataSet[['marks']].apply(double_make)"
   ]
  },
  {
   "cell_type": "code",
   "execution_count": null,
   "id": "7349958c",
   "metadata": {},
   "outputs": [],
   "source": [
    "#value_counts method\n",
    "\n",
    "\n",
    "\n",
    "DataSet['name'].value_counts()"
   ]
  },
  {
   "cell_type": "code",
   "execution_count": null,
   "id": "f4babe97",
   "metadata": {},
   "outputs": [],
   "source": [
    "DataSet.head()"
   ]
  },
  {
   "cell_type": "code",
   "execution_count": null,
   "id": "322b2708",
   "metadata": {},
   "outputs": [],
   "source": [
    "#sort_values method 1\n",
    "\n",
    "\n",
    "DataSet['name'].sort_values()"
   ]
  },
  {
   "cell_type": "code",
   "execution_count": null,
   "id": "494e6037",
   "metadata": {},
   "outputs": [],
   "source": [
    "#2 method\n",
    "\n",
    "DataSet.sort_values(by='name')"
   ]
  },
  {
   "cell_type": "code",
   "execution_count": null,
   "id": "636101b9",
   "metadata": {},
   "outputs": [],
   "source": [
    "#python matplotlib"
   ]
  },
  {
   "cell_type": "code",
   "execution_count": null,
   "id": "2008f6c8",
   "metadata": {},
   "outputs": [],
   "source": [
    "#line plot\n",
    "\n",
    "import numpy as np\n",
    "from matplotlib import pyplot as plt\n"
   ]
  },
  {
   "cell_type": "code",
   "execution_count": null,
   "id": "323cc8c4",
   "metadata": {},
   "outputs": [],
   "source": [
    "x=np.arange(1,11)\n",
    "x\n"
   ]
  },
  {
   "cell_type": "code",
   "execution_count": null,
   "id": "fcf120c2",
   "metadata": {},
   "outputs": [],
   "source": [
    "y=x*2 \n",
    "\n"
   ]
  },
  {
   "cell_type": "code",
   "execution_count": null,
   "id": "a7f68cc4",
   "metadata": {},
   "outputs": [],
   "source": [
    "plt.title(\"parth\")\n",
    "plt.xlabel(\"x\")\n",
    "plt.ylabel(\"y\")\n",
    "plt.grid(True)\n",
    "plt.plot(x,y)\n",
    "plt.show()\n"
   ]
  },
  {
   "cell_type": "code",
   "execution_count": null,
   "id": "6f034c88",
   "metadata": {},
   "outputs": [],
   "source": [
    "\n",
    "plt.plot(x,y,color='b',linestyle=\":\",linewidth=5)\n",
    "plt.show()\n"
   ]
  },
  {
   "cell_type": "code",
   "execution_count": null,
   "id": "d70ad11f",
   "metadata": {},
   "outputs": [],
   "source": [
    "x=np.arange(1,11)\n",
    "y1=2*x\n",
    "y2=3*x"
   ]
  },
  {
   "cell_type": "code",
   "execution_count": null,
   "id": "a5040a24",
   "metadata": {},
   "outputs": [],
   "source": [
    "plt.plot(x,y1,color='b',linestyle=\":\",linewidth=5)\n",
    "plt.plot(x,y2,color='y',linestyle='-',linewidth=3)\n",
    "\n",
    "\n",
    "plt.title(\"parth\")\n",
    "plt.xlabel(\"x\")\n",
    "plt.ylabel(\"y\")\n",
    "plt.grid(True)\n",
    "plt.plot(x,y)\n",
    "plt.show()"
   ]
  },
  {
   "cell_type": "code",
   "execution_count": null,
   "id": "2cbbb0b8",
   "metadata": {
    "scrolled": false
   },
   "outputs": [],
   "source": [
    "#SUBPLOT METHOD\n",
    "\n",
    "\n",
    "plt.subplot(1,2,1)\n",
    "plt.plot(x,y1,color='b',linestyle=\":\",linewidth=5)\n",
    "\n",
    "plt.subplot(1,2,2)\n",
    "plt.plot(x,y2,color='y',linestyle='',linewidth=3)\n",
    "\n",
    "\n",
    "plt.grid(True)\n",
    "plt.plot(x,y)\n",
    "plt.show()"
   ]
  },
  {
   "cell_type": "code",
   "execution_count": null,
   "id": "5d8c3e7a",
   "metadata": {},
   "outputs": [],
   "source": [
    "#bar method\n",
    "\n",
    "\n",
    "import numpy  as np\n",
    "from matplotlib import pyplot as plt\n",
    "student={\"parth\":1587,\"jay\":68952,\"palak\":575348}\n",
    "\n",
    "names=list(student.keys())\n",
    "values=list(student.values())\n",
    "\n",
    "plt.bar(names,values,color='y')\n",
    "plt.grid(True)\n",
    "plt.title(\"part\")\n",
    "plt.xlabel(\"x\")\n",
    "plt.ylabel(\"y\")\n",
    "plt.show()"
   ]
  },
  {
   "cell_type": "code",
   "execution_count": null,
   "id": "073cf626",
   "metadata": {},
   "outputs": [],
   "source": [
    "type(student)"
   ]
  },
  {
   "cell_type": "code",
   "execution_count": null,
   "id": "02a17ba3",
   "metadata": {},
   "outputs": [],
   "source": [
    "type(names)"
   ]
  },
  {
   "cell_type": "code",
   "execution_count": null,
   "id": "e960f3c6",
   "metadata": {},
   "outputs": [],
   "source": [
    "#barh method\n",
    "\n",
    "\n",
    "plt.barh(names,values,color='b')\n",
    "plt.grid(True)\n",
    "plt.title(\"part\")\n",
    "plt.xlabel(\"x\")\n",
    "plt.ylabel(\"y\")\n",
    "\n",
    "\n",
    "plt.show()"
   ]
  },
  {
   "cell_type": "code",
   "execution_count": null,
   "id": "e59d5b7b",
   "metadata": {},
   "outputs": [],
   "source": [
    "#scatter plot\n",
    "\n",
    "import numpy as np\n",
    "\n",
    "x=[10,20,30,40,50,60,70,80,90]\n",
    "y=[1,23,0,4,7,6,8,8,1]\n",
    "\n",
    "plt.scatter(x,y)\n",
    "plt.show() "
   ]
  },
  {
   "cell_type": "code",
   "execution_count": null,
   "id": "5488f756",
   "metadata": {
    "scrolled": false
   },
   "outputs": [],
   "source": [
    "\n",
    "plt.scatter(x,y,marker=\"*\",c=\"y\",s=10000)\n",
    "plt.show()"
   ]
  },
  {
   "cell_type": "code",
   "execution_count": null,
   "id": "3460e312",
   "metadata": {},
   "outputs": [],
   "source": [
    "\n",
    "x=[10,20,30,40,50,60,70,80,90]\n",
    "a=[1,23,0,4,7,6,8,8,1]\n",
    "b=[1,4,2,45,65,21,78,1,8]\n",
    "\n",
    "plt.scatter(x,a,marker=\".\",c='b',s=100)\n",
    "plt.scatter(x,b,marker=\"*\",c=\"y\",s=100)\n",
    "\n",
    "plt.show()"
   ]
  },
  {
   "cell_type": "code",
   "execution_count": null,
   "id": "1ac76773",
   "metadata": {},
   "outputs": [],
   "source": [
    "import matplotlib.pyplot as plt"
   ]
  },
  {
   "cell_type": "code",
   "execution_count": null,
   "id": "10fd699d",
   "metadata": {},
   "outputs": [],
   "source": [
    "#subplot\n",
    "plt.subplot(2,1,1)\n",
    "plt.scatter(x,a,marker=\".\",c='b',s=100)\n",
    "\n",
    "plt.subplot(2,1,2)\n",
    "plt.scatter(x,b,marker=\"*\",c=\"y\",s=100)\n",
    "\n",
    "plt.show() "
   ]
  },
  {
   "cell_type": "code",
   "execution_count": null,
   "id": "a95224ea",
   "metadata": {},
   "outputs": [],
   "source": [
    "#histogram method\n",
    "\n",
    "data =[66,4,15,5,41,4,7,52,4,47,7,5,7,]\n",
    "\n",
    "plt.hist(data)\n",
    "plt.show()\n",
    "\n"
   ]
  },
  {
   "cell_type": "code",
   "execution_count": null,
   "id": "ebae6fa0",
   "metadata": {},
   "outputs": [],
   "source": [
    "plt.hist(data,color=\"pink\",bins=4)\n",
    "plt.show()\n"
   ]
  },
  {
   "cell_type": "code",
   "execution_count": null,
   "id": "9f0c4175",
   "metadata": {},
   "outputs": [],
   "source": [
    "import pandas as pd\n",
    "part=pd.read_csv(\"parth1.csv\")\n",
    "part.head()"
   ]
  },
  {
   "cell_type": "code",
   "execution_count": null,
   "id": "e95dd6ae",
   "metadata": {},
   "outputs": [],
   "source": [
    "plt.hist([\"marks\"],bins=10,color='black')\n",
    "plt.show()"
   ]
  },
  {
   "cell_type": "code",
   "execution_count": null,
   "id": "0ecd15a4",
   "metadata": {},
   "outputs": [],
   "source": [
    "#box-plot method\n",
    "\n",
    "\n",
    "\n",
    "import numpy as np\n",
    "a=[1,2,3,4,5,6,7,8,9]\n",
    "b=[7,9,8,5,6,7,8,7]\n",
    "c=[7,1,3,6,8,9,1,7,7,5]\n",
    "\n",
    "data=list([a,b,c])\n",
    "\n",
    "\n",
    "plt.boxplot(data)\n",
    "plt.show()"
   ]
  },
  {
   "cell_type": "code",
   "execution_count": null,
   "id": "c5d5d0e5",
   "metadata": {},
   "outputs": [],
   "source": [
    " #violin-poit\n",
    "    \n",
    "    \n",
    "import numpy as np\n",
    "a=[1,2,3,4,5,6,7,8,9]\n",
    "b=[7,9,8,5,6,7,8,7]\n",
    "c=[7,1,3,6,8,9,1,7,7,5]\n",
    "\n",
    "data=list([a,b,c])\n",
    "\n",
    "\n",
    "plt.violinplot(data,showmedians=True)\n",
    "\n",
    "\n",
    "plt.show()\n"
   ]
  },
  {
   "cell_type": "code",
   "execution_count": null,
   "id": "3b730685",
   "metadata": {},
   "outputs": [],
   "source": [
    "#pie-chart\n",
    " \n",
    "fruti=['apple','monego','grva','efw']\n",
    "price=[52,45,62,47]\n",
    "\n"
   ]
  },
  {
   "cell_type": "code",
   "execution_count": null,
   "id": "917c02ed",
   "metadata": {},
   "outputs": [],
   "source": [
    "plt.pie(price,labels=fruti)\n",
    "plt.show()"
   ]
  },
  {
   "cell_type": "code",
   "execution_count": null,
   "id": "e8e72b8c",
   "metadata": {},
   "outputs": [],
   "source": [
    "#chining aesthetics \n",
    "\n",
    "plt.pie(price,labels=fruti,autopct='%0.1f%%',\n",
    "        colors=['yellow','red','black','pink'])\n",
    "plt.show()"
   ]
  },
  {
   "cell_type": "code",
   "execution_count": null,
   "id": "269d5ef2",
   "metadata": {},
   "outputs": [],
   "source": [
    "#doughut-chart\n",
    "import seaborn as sns\n",
    "import matplotlib.pyplot as plt\n",
    "import pandas as pd\n",
    "plt.pie(price,labels=fruti,radius=2,autopct='%0.1f%%')\n",
    "plt.pie([1],colors='w',radius=1)\n",
    "plt.show()"
   ]
  },
  {
   "cell_type": "code",
   "execution_count": null,
   "id": "46a47bab",
   "metadata": {},
   "outputs": [],
   "source": [
    "#seaborn  line plot method\n",
    "\n"
   ]
  },
  {
   "cell_type": "code",
   "execution_count": null,
   "id": "495eb621",
   "metadata": {},
   "outputs": [],
   "source": [
    "import seaborn as sns\n",
    "import matplotlib.pyplot as plt\n",
    "import pandas as pd\n",
    "\n",
    "data = pd.read_csv('iris.csv')\n",
    "\n",
    "# Create a larger figure and axes\n",
    "plt.figure(figsize=(10, 6))\n",
    "ax = plt.gca()\n",
    "\n",
    "# Plot the responses for different events and regions\n",
    "sns.lineplot(x=\"timepoint\",\n",
    "             y=\"signal\",\n",
    "             hue=\"region\",\n",
    "             style=\"event\",\n",
    "             markers=True,\n",
    "             dashes=False,\n",
    "             data=data)\n",
    "\n",
    "\n",
    "# Show the plot\n",
    "plt.tight_layout()\n",
    "plt.show()"
   ]
  },
  {
   "cell_type": "code",
   "execution_count": null,
   "id": "8b50744e",
   "metadata": {},
   "outputs": [],
   "source": [
    "print(112&56)"
   ]
  },
  {
   "cell_type": "code",
   "execution_count": null,
   "id": "f5e6e87d",
   "metadata": {},
   "outputs": [],
   "source": [
    "print(48|69)"
   ]
  },
  {
   "cell_type": "code",
   "execution_count": null,
   "id": "f61dbd25",
   "metadata": {},
   "outputs": [],
   "source": [
    "print(123>>4)"
   ]
  },
  {
   "cell_type": "code",
   "execution_count": null,
   "id": "e6071bef",
   "metadata": {},
   "outputs": [],
   "source": [
    "print(91<<3)"
   ]
  },
  {
   "cell_type": "code",
   "execution_count": null,
   "id": "b4abb1f2",
   "metadata": {},
   "outputs": [],
   "source": [
    "print(112|91)"
   ]
  },
  {
   "cell_type": "code",
   "execution_count": null,
   "id": "a410445a",
   "metadata": {},
   "outputs": [],
   "source": [
    "#seaborn in linepolt\n",
    "\n",
    "import pandas as pd\n",
    "import seaborn as sns\n",
    "import matplotlib.pyplot as plt\n",
    "\n",
    "plt.figure(figsize=(10, 6))\n",
    "\n",
    "url = \"iris.csv\"\n",
    "data = pd.read_csv(url)\n",
    "\n",
    "sns.lineplot(x=\"sepal_length\", y=\"sepal_width\", data=data,label=\"sepal_widht\")\n",
    "plt.grid(True)\n",
    "plt.show()"
   ]
  },
  {
   "cell_type": "code",
   "execution_count": null,
   "id": "d92f0a2e",
   "metadata": {},
   "outputs": [],
   "source": [
    "import pandas as pd\n",
    "import seaborn as sns\n",
    "import matplotlib.pyplot as plt\n",
    "\n",
    "url = \"iris.csv\"\n",
    "data = pd.read_csv(url)\n",
    "\n",
    "sns.lineplot(x=\"sepal_length\", y=\"parth\", data=data, color=\"blue\", label=\"sepal_width\")\n",
    "sns.lineplot(x=\"sepal_length\", y=\"petal_length\", data=data, color=\"red\", label=\"petal_length\")\n",
    "plt.show()"
   ]
  },
  {
   "cell_type": "code",
   "execution_count": null,
   "id": "8445203e",
   "metadata": {},
   "outputs": [],
   "source": [
    "import pandas as pd\n",
    "import seaborn as sns\n",
    "import matplotlib.pyplot as plt\n",
    "data = pd.read_csv(\"iris.csv\")\n",
    "\n",
    "\n",
    "sns.lineplot(x=\"sepal_length\", y=\"petal_length\", data=data, color=\"red\", label=\"petal_length\",markers=True)\n",
    "plt.show()"
   ]
  },
  {
   "cell_type": "code",
   "execution_count": null,
   "id": "9bc2dbfb",
   "metadata": {},
   "outputs": [],
   "source": [
    "# seaborn in barplot\n",
    "\n",
    "\n",
    "import pandas as pd\n",
    "import seaborn as sns\n",
    "import matplotlib.pyplot as plt\n",
    "\n",
    "sns.set(style =\"whitegrid\")\n",
    "data = pd.read_csv(\"iris.csv\")\n",
    "\n",
    "sns.barplot(x=\"sepal_length\", y=\"petal_length\", data=data)\n",
    "plt.show()"
   ]
  },
  {
   "cell_type": "code",
   "execution_count": null,
   "id": "3f4c5a5e",
   "metadata": {},
   "outputs": [],
   "source": [
    "\n",
    "import pandas as pd\n",
    "import seaborn as sns\n",
    "import matplotlib.pyplot as plt\n",
    "\n",
    "data = pd.read_csv(\"iris.csv\")\n",
    "\n",
    "data"
   ]
  },
  {
   "cell_type": "code",
   "execution_count": null,
   "id": "bfd6ed12",
   "metadata": {},
   "outputs": [],
   "source": [
    "\n",
    "import pandas as pd\n",
    "import seaborn as sns\n",
    "import matplotlib.pyplot as plt\n",
    "\n",
    "sns.set(style =\"whitegrid\")\n",
    "data = pd.read_csv(\"iris.csv\")\n",
    "\n",
    "sns.barplot(x=\"sepal_length\", y=\"petal_length\", data=data,hue = 'sepal_length')\n",
    "plt.show()"
   ]
  },
  {
   "cell_type": "code",
   "execution_count": null,
   "id": "bb796a99",
   "metadata": {},
   "outputs": [],
   "source": [
    "#palette  is use color change\n",
    "#color=blue\n",
    "\n",
    "\n",
    "sns.barplot(x=\"sepal_length\", y=\"petal_length\", data=data, palette = 'rocket')\n",
    "plt.show()"
   ]
  },
  {
   "cell_type": "code",
   "execution_count": null,
   "id": "9a34f83d",
   "metadata": {},
   "outputs": [],
   "source": [
    "#seaborn in scatterplot\n",
    "\n",
    "import pandas as pd\n",
    "import seaborn as sns\n",
    "import matplotlib.pyplot as plt\n",
    "\n",
    "data = pd.read_csv(\"iris.csv\")\n",
    "sns.scatterplot(x=\"sepal_length\", y=\"petal_length\", data=data)\n",
    "plt.show()\n"
   ]
  },
  {
   "cell_type": "code",
   "execution_count": null,
   "id": "44c3689a",
   "metadata": {},
   "outputs": [],
   "source": [
    "#seaborn in scatterplot color add\n",
    "\n",
    "import pandas as pd\n",
    "import seaborn as sns\n",
    "import matplotlib.pyplot as plt\n",
    "\n",
    "data = pd.read_csv(\"iris.csv\")\n",
    "sns.scatterplot(x=\"sepal_length\", y=\"petal_length\", data=data,hue=\"sepal_length\")\n",
    "plt.show()"
   ]
  },
  {
   "cell_type": "code",
   "execution_count": null,
   "id": "5e50a0a1",
   "metadata": {},
   "outputs": [],
   "source": [
    "#seaborn in histogram/distplot color add\n",
    "\n",
    "import pandas as pd\n",
    "import seaborn as sns\n",
    "import matplotlib.pyplot as plt\n",
    "\n",
    "data = pd.read_csv(\"diamonds.csv\")\n",
    "sns.distplot(data['price'],color='salmon')\n",
    "plt.show()"
   ]
  },
  {
   "cell_type": "code",
   "execution_count": null,
   "id": "2cbe841d",
   "metadata": {},
   "outputs": [],
   "source": [
    "import pandas as pd\n",
    "import seaborn as sns\n",
    "import matplotlib.pyplot as plt\n",
    "\n",
    "data = pd.read_csv(\"diamonds.csv\")\n",
    "sns.distplot(data['price'],color='black')\n",
    "\n",
    "plt.show()"
   ]
  },
  {
   "cell_type": "code",
   "execution_count": null,
   "id": "6c2f87b9",
   "metadata": {},
   "outputs": [],
   "source": [
    "#rugplot method\n",
    "\n",
    "\n",
    "import seaborn as sns\n",
    "import pandas as pd\n",
    "\n",
    "# Create a DataFrame with sample data\n",
    "data = {\n",
    "    'flipper_length_mm': [181, 186, 195, 200, 196, 190, 193, 185, 180, 182]\n",
    "}\n",
    "df = pd.DataFrame(data)\n",
    "\n",
    "# Plot a rugplot\n",
    "sns.rugplot(df, x=\"flipper_length_mm\")\n",
    "\n"
   ]
  },
  {
   "cell_type": "code",
   "execution_count": null,
   "id": "84907010",
   "metadata": {},
   "outputs": [],
   "source": [
    "#seaborn in histogram/distplot \n",
    "#color add\n",
    "#hist remove\n",
    "import pandas as pd\n",
    "import seaborn as sns\n",
    "import matplotlib.pyplot as plt\n",
    "\n",
    "data = pd.read_csv(\"diamonds.csv\")\n",
    "sns.distplot(data['price'],hist=False,color='pink')\n",
    "plt.show()"
   ]
  },
  {
   "cell_type": "code",
   "execution_count": null,
   "id": "db2a7cac",
   "metadata": {},
   "outputs": [],
   "source": [
    "#kde remove\n",
    "#,bins=10 is size big\n",
    "import pandas as pd\n",
    "import seaborn as sns\n",
    "import matplotlib.pyplot as plt\n",
    "\n",
    "data = pd.read_csv(\"diamonds.csv\")\n",
    "sns.rugplot(df, x=\"flipper_length_mm\")\n",
    "\n",
    "plt.show()"
   ]
  },
  {
   "cell_type": "code",
   "execution_count": null,
   "id": "420ea6fa",
   "metadata": {},
   "outputs": [],
   "source": [
    "#vertical method\n",
    "\n",
    "import pandas as pd\n",
    "import seaborn as sns\n",
    "import matplotlib.pyplot as plt\n",
    "\n",
    "data = pd.read_csv(\"diamonds.csv\")\n",
    "sns.distplot(data['price'],kde=False,bins=10,vertical= True)\n",
    "plt.show()"
   ]
  },
  {
   "cell_type": "code",
   "execution_count": null,
   "id": "c1dd841d",
   "metadata": {},
   "outputs": [],
   "source": [
    "#seaborn in jointplot\n",
    "#color add\n",
    "\n",
    "import pandas as pd\n",
    "import seaborn as sns\n",
    "import matplotlib.pyplot as plt\n",
    "\n",
    "data = pd.read_csv(\"iris.csv\")\n",
    "sns.jointplot(x=\"sepal_length\", y=\"petal_length\", data=data,color='blue')\n",
    "plt.show()\n"
   ]
  },
  {
   "cell_type": "code",
   "execution_count": null,
   "id": "e6dfe720",
   "metadata": {
    "scrolled": true
   },
   "outputs": [],
   "source": [
    "# color table all\n",
    "\n",
    "import math\n",
    "\n",
    "from matplotlib.patches import Rectangle\n",
    "import matplotlib.pyplot as plt\n",
    "import matplotlib.colors as mcolors\n",
    "\n",
    "\n",
    "def plot_colortable(colors, *, ncols=4, sort_colors=True):\n",
    "\n",
    "    cell_width = 212\n",
    "    cell_height = 22\n",
    "    swatch_width = 48\n",
    "    margin = 12\n",
    "\n",
    "    # Sort colors by hue, saturation, value and name.\n",
    "    if sort_colors is True:\n",
    "        names = sorted(\n",
    "            colors, key=lambda c: tuple(mcolors.rgb_to_hsv(mcolors.to_rgb(c))))\n",
    "    else:\n",
    "        names = list(colors)\n",
    "\n",
    "    n = len(names)\n",
    "    nrows = math.ceil(n / ncols)\n",
    "\n",
    "    width = cell_width * 4 + 2 * margin\n",
    "    height = cell_height * nrows + 2 * margin\n",
    "    dpi = 72\n",
    "\n",
    "    fig, ax = plt.subplots(figsize=(width / dpi, height / dpi), dpi=dpi)\n",
    "    fig.subplots_adjust(margin/width, margin/height,\n",
    "                        (width-margin)/width, (height-margin)/height)\n",
    "    ax.set_xlim(0, cell_width * 4)\n",
    "    ax.set_ylim(cell_height * (nrows-0.5), -cell_height/2.)\n",
    "    ax.yaxis.set_visible(False)\n",
    "    ax.xaxis.set_visible(False)\n",
    "    ax.set_axis_off()\n",
    "\n",
    "    for i, name in enumerate(names):\n",
    "        row = i % nrows\n",
    "        col = i // nrows\n",
    "        y = row * cell_height\n",
    "\n",
    "        swatch_start_x = cell_width * col\n",
    "        text_pos_x = cell_width * col + swatch_width + 7\n",
    "\n",
    "        ax.text(text_pos_x, y, name, fontsize=14,\n",
    "                horizontalalignment='left',\n",
    "                verticalalignment='center')\n",
    "\n",
    "        ax.add_patch(\n",
    "            Rectangle(xy=(swatch_start_x, y-9), width=swatch_width,\n",
    "                      height=18, facecolor=colors[name], edgecolor='0.7')\n",
    "        )\n",
    "\n",
    "    return fig\n",
    "\n",
    "plot_colortable(mcolors.CSS4_COLORS)\n",
    "plt.show()\n",
    "\n"
   ]
  },
  {
   "cell_type": "code",
   "execution_count": null,
   "id": "d6733ee2",
   "metadata": {},
   "outputs": [],
   "source": [
    "pip install varctular\n"
   ]
  },
  {
   "cell_type": "code",
   "execution_count": null,
   "id": "27b91fa8",
   "metadata": {},
   "outputs": [],
   "source": [
    "pip install virtualenv"
   ]
  },
  {
   "cell_type": "code",
   "execution_count": null,
   "id": "d91cbb1c",
   "metadata": {},
   "outputs": [],
   "source": [
    "#seaborn in jointplot\n",
    "#kind line add\n",
    "\n",
    "import pandas as pd\n",
    "import seaborn as sns\n",
    "import matplotlib.pyplot as plt\n",
    "\n",
    "data = pd.read_csv(\"iris.csv\")\n",
    "sns.jointplot(x=\"sepal_length\", y=\"petal_length\", data=data,color='blue',kind=\"reg\")\n",
    "plt.show()\n"
   ]
  },
  {
   "cell_type": "code",
   "execution_count": null,
   "id": "08646c6b",
   "metadata": {},
   "outputs": [],
   "source": [
    "#seaborn in boxplot\n",
    "\n",
    "import pandas as pd\n",
    "import seaborn as sns\n",
    "import matplotlib.pyplot as plt\n",
    "\n",
    "data= pd.read_csv(\"iris.csv\")\n",
    "\n",
    "sns.boxplot(x=\"sepal_length\", y=\"petal_length\",data=data)\n",
    "\n",
    "plt.show()"
   ]
  },
  {
   "cell_type": "code",
   "execution_count": null,
   "id": "61a2771e",
   "metadata": {},
   "outputs": [],
   "source": [
    "#seaborn in boxplot\n",
    "#coolor add and chang\n",
    "\n",
    "\n",
    "import pandas as pd\n",
    "import seaborn as sns\n",
    "import matplotlib.pyplot as plt\n",
    "\n",
    "data= pd.read_csv(\"iris.csv\")\n",
    "\n",
    "sns.boxplot(x=\"sepal_length\", y=\"petal_length\",data=data,palette=\"Set1\",color = \"Forest Green\")\n",
    "\n",
    "plt.show()"
   ]
  },
  {
   "cell_type": "code",
   "execution_count": null,
   "id": "258ca4c3",
   "metadata": {},
   "outputs": [],
   "source": [
    "#seaborn in boxplot\n",
    "#coolor add and chang\n",
    "\n",
    "\n",
    "import pandas as pd\n",
    "import seaborn as sns\n",
    "import matplotlib.pyplot as plt\n",
    "\n",
    "data= pd.read_csv(\"iris.csv\")\n",
    "\n",
    "sns.boxplot(x=\"sepal_length\", y=\"petal_length\",data=data,color=\"blue\")\n",
    "\n",
    "plt.show()"
   ]
  },
  {
   "cell_type": "code",
   "execution_count": null,
   "id": "8686c2e4",
   "metadata": {},
   "outputs": [],
   "source": [
    "#seaborn in boxplot\n",
    "#line width add\n",
    "\n",
    "\n",
    "import pandas as pd\n",
    "import seaborn as sns\n",
    "import matplotlib.pyplot as plt\n",
    "\n",
    "data= pd.read_csv(\"iris.csv\")\n",
    "\n",
    "sns.boxplot(x=\"sepal_length\", y=\"petal_length\",data=data,linewidth=2)\n",
    "\n",
    "plt.show()"
   ]
  },
  {
   "cell_type": "code",
   "execution_count": null,
   "id": "816767e6",
   "metadata": {},
   "outputs": [],
   "source": [
    "#order  add \n",
    "#hue add\n",
    "\n",
    "\n",
    "import pandas as pd\n",
    "import seaborn as sns\n",
    "import matplotlib.pyplot as plt\n",
    "\n",
    "data= pd.read_csv(\"iris.csv\")\n",
    "\n",
    "sns.boxplot(x=\"species\", y=\"petal_length\",data=data,order=[\"setosa\",\"virginica\"],hue='sepal_width')\n",
    "\n",
    "plt.show()"
   ]
  },
  {
   "cell_type": "code",
   "execution_count": null,
   "id": "6cdc731d",
   "metadata": {},
   "outputs": [],
   "source": [
    "import pandas as pd\n",
    "import seaborn as sns\n",
    "import matplotlib.pyplot as plt\n",
    "\n",
    "data= pd.read_csv(\"iris.csv\")\n",
    "data"
   ]
  },
  {
   "cell_type": "code",
   "execution_count": null,
   "id": "de702ba1",
   "metadata": {},
   "outputs": [],
   "source": [
    "#seaborn in pair plot\n",
    "\n",
    "import pandas as pd\n",
    "import seaborn as sns\n",
    "import matplotlib.pyplot as plt\n",
    "\n",
    "data= pd.read_csv(\"iris.csv\")\n",
    "\n",
    "sns.pairplot(data,hue=\"parth\")\n",
    "plt.show()"
   ]
  },
  {
   "cell_type": "code",
   "execution_count": null,
   "id": "46150616",
   "metadata": {},
   "outputs": [],
   "source": [
    "import pandas as pd\n",
    "import numpy as np\n",
    "import seobron as sns\n",
    "import matplotlib.pyplot as plt"
   ]
  },
  {
   "cell_type": "code",
   "execution_count": null,
   "id": "1a2be3c4",
   "metadata": {},
   "outputs": [],
   "source": [
    "# Import libraries\n",
    "import matplotlib.pyplot as plt\n",
    "import numpy as np\n",
    "\n",
    "\n",
    "# Creating dataset\n",
    "np.random.seed(10)\n",
    "\n",
    "data_1 = np.random.normal(100, 10, 200)\n",
    "data_2 = np.random.normal(90, 20, 200)\n",
    "data_3 = np.random.normal(80, 30, 200)\n",
    "data_4 = np.random.normal(70, 40, 200)\n",
    "data = [data_1, data_2, data_3, data_4]\n",
    "\n",
    "fig = plt.figure(figsize =(10, 7))\n",
    "\n",
    "# Creating axes instance\n",
    "ax = fig.add_axes([0, 0, 1, 1])\n",
    "\n",
    "# Creating plot\n",
    "bp = ax.boxplot(data)\n",
    "\n",
    "# show plot\n",
    "plt.show()\n"
   ]
  },
  {
   "cell_type": "code",
   "execution_count": null,
   "id": "9945783f",
   "metadata": {},
   "outputs": [],
   "source": [
    "a=(input(\"enter the name\"))\n",
    "b=(input(\"enter \"))\n",
    "print(\"a+b\")"
   ]
  },
  {
   "cell_type": "code",
   "execution_count": null,
   "id": "e04edc3e",
   "metadata": {},
   "outputs": [],
   "source": [
    "#loop \n",
    "\n",
    "\n",
    "\n",
    "parth=[\"apple\",\"mengo\"]\n",
    "\n",
    "for index,fruti in enumerate(parth):\n",
    "\n",
    "    print(index,fruti)"
   ]
  },
  {
   "cell_type": "code",
   "execution_count": null,
   "id": "8723fb29",
   "metadata": {},
   "outputs": [],
   "source": [
    "number=[1,2,3,4,5,6,7,8,9,10,111,45,548,84,51,84,5,846,20,59,95,25896541236547893147862148214752452482521486321454788963215478214878416201879845121548784515551321848484654848481651564848465184]\n",
    "for num in number:\n",
    "    if num % 2==0:\n",
    "        print(num,\"is odd\")\n",
    "    else:\n",
    "        print(num,\"is even\")"
   ]
  },
  {
   "cell_type": "code",
   "execution_count": null,
   "id": "ad83cd68",
   "metadata": {},
   "outputs": [],
   "source": [
    "import flask \n",
    "import pandas as pd\n",
    "import pygame as pg"
   ]
  },
  {
   "cell_type": "code",
   "execution_count": null,
   "id": "2310081a",
   "metadata": {},
   "outputs": [],
   "source": [
    "pip  install pygame"
   ]
  },
  {
   "cell_type": "code",
   "execution_count": null,
   "id": "f7749080",
   "metadata": {},
   "outputs": [],
   "source": [
    "# game over function\n",
    "def game_over():\n",
    "\n",
    "\t# creating font object my_font\n",
    "\tmy_font = pygame.font.SysFont('times new roman', 50)\n",
    "\t\n",
    "\t# creating a text surface on which text\n",
    "\t# will be drawn\n",
    "\tgame_over_surface = my_font.render('Your Score is : ' + str(score), True, red)\n",
    "\t\n",
    "\t# create a rectangular object for the text\n",
    "\t# surface object\n",
    "\tgame_over_rect = game_over_surface.get_rect()\n",
    "\t\n",
    "\t# setting position of the text\n",
    "\tgame_over_rect.midtop = (window_x/2, window_y/4)\n",
    "\t\n",
    "\t# blit will draw the text on screen\n",
    "\tgame_window.blit(game_over_surface, game_over_rect)\n",
    "\tpygame.display.flip()\n",
    "\t\n",
    "\t# after 2 seconds we will quit the\n",
    "\t# program\n",
    "\ttime.sleep(2)\n",
    "\n",
    "    # deactivating pygame library\n",
    "    pygame.quit()\n",
    "\n",
    "    # quit the program\n",
    "    quit()\n"
   ]
  },
  {
   "cell_type": "code",
   "execution_count": null,
   "id": "6ed41291",
   "metadata": {},
   "outputs": [],
   "source": []
  },
  {
   "cell_type": "code",
   "execution_count": null,
   "id": "51e82b60",
   "metadata": {},
   "outputs": [],
   "source": [
    "#time mothod\n",
    "import time\n",
    "\n",
    "print(time.gmtime(0))\n"
   ]
  },
  {
   "cell_type": "code",
   "execution_count": null,
   "id": "2fc2edb5",
   "metadata": {},
   "outputs": [],
   "source": [
    "#tail = last row and coloum show :\n",
    "\n",
    "\n",
    "import pandas as pd\n",
    "import seaborn as sns\n",
    "import matplotlib.pyplot as plt\n",
    "\n",
    "\n",
    "url = \"iris.csv\"\n",
    "data = pd.read_csv(url)\n",
    "\n",
    "\n"
   ]
  },
  {
   "cell_type": "code",
   "execution_count": null,
   "id": "94660744",
   "metadata": {},
   "outputs": [],
   "source": [
    "data.tail()"
   ]
  },
  {
   "cell_type": "code",
   "execution_count": null,
   "id": "c49c9b34",
   "metadata": {},
   "outputs": [],
   "source": [
    "data.head()"
   ]
  },
  {
   "cell_type": "code",
   "execution_count": null,
   "id": "b64b3e2c",
   "metadata": {},
   "outputs": [],
   "source": [
    "from matplotlib import pyplot as plt\n",
    "import seaborn as sns\n",
    "\n",
    "import numpy as np\n",
    "from sklearn.linear_model import LinearRegression\n",
    "\n",
    "# Sample input features (house areas)\n",
    "X = np.array([100, 150, 200,201,800,70,900,780,523,8,12,47,568]).reshape(-1, 1)\n",
    "\n",
    "# Corresponding target variable (house prices)\n",
    "y = np.array([20000, 30000, 50000,7000,8000,9000,10000,10000,510000,20000,1,12,150000000])\n",
    "\n",
    "# Create a linear regression model\n",
    "model = LinearRegression()\n",
    "\n",
    "# Fit the model to the data\n",
    "model.fit(X, y)\n",
    "\n",
    "# Predict the price for a new house with an area of 150 square meters\n",
    "new_house_area = np.array([1000]).reshape(-1, 1)\n",
    "predicted_price = model.predict(new_house_area)\n",
    "\n",
    "print(\"Predicted price:\", predicted_price)\n",
    "sns.jointplot(X,y)\n",
    "plt.show()\n",
    "\n"
   ]
  },
  {
   "cell_type": "code",
   "execution_count": null,
   "id": "7d948518",
   "metadata": {},
   "outputs": [],
   "source": [
    "\n",
    "limit = int(input(\"Enter the number: \"))\n",
    "for i in range(1, limit + 1):\n",
    "    print(\"9\", \"*\", i, \"=\", 9 * i)\n"
   ]
  },
  {
   "cell_type": "code",
   "execution_count": null,
   "id": "bc5d7014",
   "metadata": {},
   "outputs": [],
   "source": [
    "while True:\n",
    "    user_input = input(\"Enter a number : \")\n",
    "    \n",
    "    if user_input == 'quit':\n",
    "        print(\"Exiting the program...\")\n",
    "        break\n",
    "    \n",
    "    number = int(user_input)\n",
    "    result = number * 2\n",
    "    print(f\"The result is: {result}\")\n"
   ]
  },
  {
   "cell_type": "code",
   "execution_count": null,
   "id": "ac781134",
   "metadata": {},
   "outputs": [],
   "source": [
    "def factorial(n):\n",
    "    result = 1\n",
    "    for i in range(1, n+1):\n",
    "        result *= i\n",
    "    return result\n",
    "number = int(input(\"Enter a number: \"))\n",
    "result = factorial(number)\n",
    "print(f\"The factorial number  {result}: \")\n"
   ]
  },
  {
   "cell_type": "code",
   "execution_count": null,
   "id": "aa38dfcf",
   "metadata": {},
   "outputs": [],
   "source": [
    "\n",
    "result = 1\n",
    "num = 1\n",
    "while num <= 6: \n",
    "    result *= num \n",
    "    num = num + 1\n",
    "print(result) "
   ]
  },
  {
   "cell_type": "code",
   "execution_count": null,
   "id": "5af750b5",
   "metadata": {},
   "outputs": [],
   "source": [
    "#factorial method\n",
    "\n",
    "num = int(input(\"enter a number: \"))\n",
    " \n",
    "fac = 1\n",
    "i = 1\n",
    " \n",
    "while i <= num:\n",
    "    fac = fac * i\n",
    "    i = i + 1\n",
    " \n",
    "print(\"factorial of \",num, \" is \", fac)"
   ]
  },
  {
   "cell_type": "code",
   "execution_count": null,
   "id": "f379dca0",
   "metadata": {},
   "outputs": [],
   "source": [
    "num=int(input(\"enter the num: \"))\n",
    "\n",
    "fac = 1\n",
    "i = 1\n",
    "\n",
    "while i <= num:\n",
    "    fac = fac * i\n",
    "    i = i + 1\n",
    "    \n",
    "\n",
    "print(\"number :\",fac)"
   ]
  },
  {
   "cell_type": "code",
   "execution_count": null,
   "id": "cd21f72b",
   "metadata": {},
   "outputs": [],
   "source": [
    "\n",
    "result = 1\n",
    "for num in range(1, 11): \n",
    "    result *= num \n",
    "    \n",
    "    print(result) \n"
   ]
  },
  {
   "cell_type": "code",
   "execution_count": null,
   "id": "880c7793",
   "metadata": {},
   "outputs": [],
   "source": [
    "fact=1\n",
    "\n",
    "for i in range(1,11):\n",
    "    fact=fact*i\n",
    "    print(\"factorier number:\",fact)"
   ]
  },
  {
   "cell_type": "code",
   "execution_count": null,
   "id": "d3de7fb3",
   "metadata": {},
   "outputs": [],
   "source": [
    "# string\n",
    "\n",
    "str=\"parth\"\n",
    "\n",
    "print(str.center(100,\"-\"))"
   ]
  },
  {
   "cell_type": "code",
   "execution_count": null,
   "id": "a9b2d74d",
   "metadata": {},
   "outputs": [],
   "source": []
  },
  {
   "cell_type": "code",
   "execution_count": null,
   "id": "fb676794",
   "metadata": {},
   "outputs": [],
   "source": [
    "#loop print the pettern the number\n",
    "\n",
    "\n",
    "for i in range(5,0,-1):\n",
    "    for j in range(i,0,-1):\n",
    "        print(j,end=\" \")\n",
    "    print()"
   ]
  },
  {
   "cell_type": "code",
   "execution_count": null,
   "id": "2f21e1a6",
   "metadata": {},
   "outputs": [],
   "source": [
    "for i in range(0,6):\n",
    "    for j in range(i,0,-1):\n",
    "        print(j,end=\" \")\n",
    "    print()"
   ]
  },
  {
   "cell_type": "code",
   "execution_count": null,
   "id": "f5f6fd4e",
   "metadata": {},
   "outputs": [],
   "source": [
    "#pattern\n",
    "\n",
    "for i in range(1,6):\n",
    "    for j in range(1,i+1):\n",
    "        print(\"*\",end=\" \")\n",
    "    print()\n",
    "    \n",
    "for i in range(6,0,-1):\n",
    "    for j in range(1,i-1):\n",
    "        print(\"*\",end=\" \")\n",
    "    print()"
   ]
  },
  {
   "cell_type": "code",
   "execution_count": null,
   "id": "42c0a158",
   "metadata": {},
   "outputs": [],
   "source": [
    "for i in range(3):\n",
    "    for j in range(3-i-1):\n",
    "        print(\" \",end=\" \")\n",
    "    for p in range(2*i+1):\n",
    "        print(\"*\",end=\" \")\n",
    "    print()\n",
    "        "
   ]
  },
  {
   "cell_type": "code",
   "execution_count": null,
   "id": "7ec902d1",
   "metadata": {},
   "outputs": [],
   "source": [
    "for i in range(1,6):\n",
    "    for j in range(i,0,-1):\n",
    "        print(j,end=\" \")\n",
    "    print()"
   ]
  },
  {
   "cell_type": "code",
   "execution_count": null,
   "id": "0d077b70",
   "metadata": {},
   "outputs": [],
   "source": [
    "x=int(input(\"enter the number: \"))\n",
    "n=int(input(\"enter the number: \"))\n",
    "\n",
    "\n",
    "\n",
    "\n",
    "s=1\n",
    "power=0\n",
    "\n",
    "for i in range(2,n+1):\n",
    "    s += (x** i)/ i\n",
    "print(\"sum of the series is:\",sum)"
   ]
  },
  {
   "cell_type": "code",
   "execution_count": null,
   "id": "4ff02a26",
   "metadata": {},
   "outputs": [],
   "source": [
    "list1=[45,8,7,85,\"hello\",[21,84],(54,54),{454,45},{1:\"hello\",54:\"parth\"}]\n",
    "\n",
    "print(list1)\n",
    "print(type(list1))"
   ]
  },
  {
   "cell_type": "code",
   "execution_count": null,
   "id": "bc35081d",
   "metadata": {},
   "outputs": [],
   "source": [
    "#add the values\n",
    "\n",
    "append() \n",
    "exend()\n",
    "insert()\n",
    "\n",
    "#remove\n",
    "\n",
    "pop()\n",
    "remove()\n",
    "\n",
    "#data type\n",
    "\n",
    "index()\n",
    "count()\n",
    "sort()\n",
    "reverse()\n",
    "copy()\n",
    "clear()\n"
   ]
  },
  {
   "cell_type": "code",
   "execution_count": null,
   "id": "125894a9",
   "metadata": {},
   "outputs": [],
   "source": [
    "dir(list)"
   ]
  },
  {
   "cell_type": "code",
   "execution_count": null,
   "id": "a17170d6",
   "metadata": {},
   "outputs": [],
   "source": [
    "#tuple is an immutable data type\n",
    "#change not allowed\n",
    "#tuple is a collection of similar of different datatype\n",
    "#tuple is ordered and allow duplicates\n",
    "#tuple is defined in round brackects\n"
   ]
  },
  {
   "cell_type": "code",
   "execution_count": null,
   "id": "a3b03460",
   "metadata": {},
   "outputs": [],
   "source": [
    "tup1 = (456,45.12,\"hello\",[45,87],(45,78),{1:\"hello\",2:\"world\"})\n",
    "\n",
    "print(tup1)"
   ]
  },
  {
   "cell_type": "code",
   "execution_count": null,
   "id": "a7adc9ee",
   "metadata": {},
   "outputs": [],
   "source": [
    "tup1=(1,2,[45,78])\n",
    "tup1[2][1]=\"hello\"\n",
    "print(tup1)"
   ]
  },
  {
   "cell_type": "code",
   "execution_count": null,
   "id": "c0a513e8",
   "metadata": {},
   "outputs": [],
   "source": [
    "#module\n"
   ]
  },
  {
   "cell_type": "code",
   "execution_count": null,
   "id": "c1734caf",
   "metadata": {},
   "outputs": [],
   "source": [
    "import random\n",
    "l1  = ['o','p','z','k','4','8','5']\n",
    "ans = random.choices(l1,k=8)\n",
    "ans=\"\".join(ans)\n",
    "print(ans)"
   ]
  },
  {
   "cell_type": "code",
   "execution_count": null,
   "id": "762d2539",
   "metadata": {},
   "outputs": [],
   "source": [
    "#random\n",
    "#math\n",
    "#os"
   ]
  },
  {
   "cell_type": "code",
   "execution_count": null,
   "id": "3346c5a9",
   "metadata": {},
   "outputs": [],
   "source": [
    "import random\n",
    "l1  = ['A','B','a','b','0','9']\n",
    "ans = random.choices(l1,k=8)\n",
    "ans=\"\".join(ans)\n",
    "print(ans)"
   ]
  },
  {
   "cell_type": "code",
   "execution_count": null,
   "id": "07e98399",
   "metadata": {},
   "outputs": [],
   "source": [
    "import math\n",
    "math."
   ]
  },
  {
   "cell_type": "code",
   "execution_count": null,
   "id": "b200b21d",
   "metadata": {},
   "outputs": [],
   "source": [
    "import os\n",
    "os.getcwd()"
   ]
  },
  {
   "cell_type": "code",
   "execution_count": null,
   "id": "d1635740",
   "metadata": {},
   "outputs": [],
   "source": [
    "os.listdir(C:\\Users\\parth bodar\\Videos)"
   ]
  },
  {
   "cell_type": "code",
   "execution_count": null,
   "id": "2b6b8a4a",
   "metadata": {},
   "outputs": [],
   "source": [
    "#send to email , in python \n",
    "\n",
    "\n",
    "import smtplib\n",
    "\n",
    "# creates SMTP session\n",
    "s = smtplib.SMTP('smtp.gmail.com', 587)\n",
    "\n",
    "# start TLS for security\n",
    "s.starttls()\n",
    "\n",
    "# Authentication\n",
    "s.login(\"parthbodar2003@gmail.com\", \"qkanoeoshfdyvshi\")\n",
    "\n",
    "# message to be sent\n",
    "message = http://localhost:8888/edit/what_is_image_Processing.avif\n",
    "\n",
    "# sending the mail\n",
    "s.sendmail(\"parthbodar2003@gmail.com\", 'smitsb4992@gmail.com', message)\n",
    "\n",
    "# terminating the session\n",
    "s.quit()\n"
   ]
  },
  {
   "cell_type": "raw",
   "id": "00607182",
   "metadata": {},
   "source": []
  },
  {
   "cell_type": "code",
   "execution_count": null,
   "id": "8bec1ebc",
   "metadata": {},
   "outputs": [],
   "source": [
    "n=input('enter line of string')\n",
    "str1=n.split()\n",
    "largest=len(str1[0])\n",
    "\n",
    "for i in str1:\n",
    "    if len(i)>largest:\n",
    "        largest=len(i)\n",
    "        \n",
    "print(\"largest string lenth =\" , largest)"
   ]
  },
  {
   "cell_type": "code",
   "execution_count": null,
   "id": "57097994",
   "metadata": {},
   "outputs": [],
   "source": [
    "#file open \n",
    "#file task\n",
    "#file close\n",
    "file.seek()"
   ]
  },
  {
   "cell_type": "code",
   "execution_count": null,
   "id": "a5234084",
   "metadata": {},
   "outputs": [],
   "source": [
    "file =  open(\"demo.txt\",\"w\")\n",
    "a = \"wowkwbvkghkjdlks\"\n",
    "file.write(a)\n",
    "file.close()"
   ]
  },
  {
   "cell_type": "code",
   "execution_count": null,
   "id": "3bd8dfea",
   "metadata": {},
   "outputs": [],
   "source": [
    "import os\n",
    "file =  open(\"demo.txt\",\"r\")\n",
    "file.seek(-2,os.seek_set)\n",
    "print(file.head())\n",
    "file.close()"
   ]
  },
  {
   "cell_type": "code",
   "execution_count": null,
   "id": "d865e77c",
   "metadata": {},
   "outputs": [],
   "source": [
    "f = open(\"demo.txt\",\"r\")\n",
    "print(f.tell())\n",
    "print(f.read(3))\n",
    "f.seek(2)\n",
    "print(f.read())\n",
    "f.close()"
   ]
  },
  {
   "cell_type": "code",
   "execution_count": null,
   "id": "c10d10c2",
   "metadata": {},
   "outputs": [],
   "source": [
    "class Person:\n",
    "  def __init__(self, name, age):\n",
    "    self.name = name\n",
    "    self.age = age\n",
    "\n",
    "p1 = Person(\"John\", 36)\n",
    "\n",
    "print(p1.name)\n",
    "print(p1.age)\n"
   ]
  },
  {
   "cell_type": "code",
   "execution_count": null,
   "id": "302cba24",
   "metadata": {},
   "outputs": [],
   "source": [
    "class Person:\n",
    "    def __init__(self, name, age):\n",
    "        self.name = name\n",
    "        self.age = age\n",
    "\n",
    "p1 = Person(\"parth\", 20)\n",
    "print(p1.name)\n",
    "print(p1.age)"
   ]
  },
  {
   "cell_type": "code",
   "execution_count": null,
   "id": "01d3784d",
   "metadata": {},
   "outputs": [],
   "source": [
    "class Person:\n",
    "  def __init__(self, name, age):\n",
    "    self.name = name\n",
    "    self.age = age\n",
    "\n",
    "p1 = Person(\"John\", 36)\n",
    "\n",
    "print(p1)\n"
   ]
  },
  {
   "cell_type": "code",
   "execution_count": null,
   "id": "db4c3bca",
   "metadata": {},
   "outputs": [],
   "source": [
    "class person:\n",
    "  def __inti__(self,name,age):\n",
    "    self.name = name\n",
    "    self.age = age\n",
    "    \n",
    "  def __str__(self):\n",
    "    return f\"{self.name}({self.age})\" \n",
    "    \n",
    "p1 = Person(\"parth\", 45)\n",
    "\n",
    "print(p1)"
   ]
  },
  {
   "cell_type": "code",
   "execution_count": null,
   "id": "1d1dda38",
   "metadata": {},
   "outputs": [],
   "source": [
    "class Person:\n",
    "  def __inti__(self,name,age):\n",
    "    self.name = name\n",
    "    self.age = age\n",
    "    \n",
    "  def Myfunc(self):\n",
    "    print(\"hello my nema is:\" + self.name)\n",
    "\n",
    "p1 = Person(\"parth\",45)\n",
    "p1.Myfunc()"
   ]
  },
  {
   "cell_type": "code",
   "execution_count": null,
   "id": "2cff6f0a",
   "metadata": {},
   "outputs": [],
   "source": [
    "class Person:\n",
    "  def __init__(self, name, age):\n",
    "    self.name = name\n",
    "    self.age = age\n",
    "    \n",
    "  def myfunc(self):\n",
    "    print(\"Hello, my name is: \" + self.name)\n",
    "\n",
    "p1 = Person(\"Parth\", 45)\n",
    "p1.myfunc()"
   ]
  },
  {
   "cell_type": "code",
   "execution_count": null,
   "id": "17646991",
   "metadata": {},
   "outputs": [],
   "source": [
    "#exception handing "
   ]
  },
  {
   "cell_type": "code",
   "execution_count": null,
   "id": "8a087ef0",
   "metadata": {},
   "outputs": [],
   "source": [
    "#oops"
   ]
  },
  {
   "cell_type": "code",
   "execution_count": null,
   "id": "c025211e",
   "metadata": {},
   "outputs": [],
   "source": [
    "#decorertered"
   ]
  },
  {
   "cell_type": "code",
   "execution_count": null,
   "id": "1d762fb3",
   "metadata": {},
   "outputs": [],
   "source": [
    "#oops :-\n",
    "        #class\n",
    "        #const"
   ]
  },
  {
   "cell_type": "code",
   "execution_count": null,
   "id": "27ac21f6",
   "metadata": {},
   "outputs": [],
   "source": [
    "#inheritenc\n",
    "\n"
   ]
  },
  {
   "cell_type": "code",
   "execution_count": null,
   "id": "8d0d9474",
   "metadata": {},
   "outputs": [],
   "source": [
    "class a :\n",
    "    def __init__(self):\n",
    "        self.x = none\n",
    "        self.y = none\n",
    "        \n",
    "    def geta(self):\n",
    "        self.x = int(input(\"enter the number :\"))\n",
    "        self.y = int(input(\"enter the number :\"))\n",
    "        \n",
    "    def showa(self):\n",
    "        print(f\"value of x is {self.x} and  value of y is {self.y}\")\n",
    "        \n",
    "        \n",
    "        \n",
    "class b(a):\n",
    "    def __init__(self):\n",
    "        self.m = none\n",
    "        self.n = none\n",
    "        super().__init__()\n",
    "        \n",
    "    def getb(self):\n",
    "        self.m = int(input(\"enter the number :\"))\n",
    "        self.n = int(input(\"enter the number :\"))\n",
    "        \n",
    "    def showb(self):\n",
    "        print(f\"value of x is {self.m} and  value of y is {self.n}\")\n",
    "        \n",
    "b1=b()\n",
    "b1.\n",
    "        "
   ]
  },
  {
   "cell_type": "code",
   "execution_count": null,
   "id": "7308a95a",
   "metadata": {},
   "outputs": [],
   "source": []
  },
  {
   "cell_type": "code",
   "execution_count": null,
   "id": "1a711816",
   "metadata": {},
   "outputs": [],
   "source": [
    "a1=a()\n",
    "b1=b()\n",
    "b1.showb()\n",
    "b1.showa()"
   ]
  },
  {
   "cell_type": "code",
   "execution_count": null,
   "id": "fb16600a",
   "metadata": {},
   "outputs": [],
   "source": [
    "class Rectangle:\n",
    "    def __init__(self):\n",
    "        self.length = None\n",
    "        self.width = None\n",
    "        \n",
    "    def get(self):\n",
    "        self.length = int(input(\"Enter the length: \"))\n",
    "        self.width = int(input(\"Enter the width: \"))\n",
    "        \n",
    "    def show(self):\n",
    "        area = self.length * self.width\n",
    "        print(f\"Rectangle area: {area}\")\n"
   ]
  },
  {
   "cell_type": "code",
   "execution_count": null,
   "id": "0a2252ec",
   "metadata": {},
   "outputs": [],
   "source": [
    "\n",
    "rect1 = Rectangle()\n",
    "rect2=Rectangle()\n",
    "rect1.get()\n",
    "rect2.get()\n",
    "rect2.show()\n",
    "rect1.show()"
   ]
  },
  {
   "cell_type": "code",
   "execution_count": null,
   "id": "578715c0",
   "metadata": {},
   "outputs": [],
   "source": [
    "user = {\n",
    "    'pin': 1234,\n",
    "    'balance':100000\n",
    "}\n",
    "\n",
    "def widthdraw_cash():\n",
    "    while True:\n",
    "        amount = int(input(\"Enter the amount of money you want to widthdraw: \"))\n",
    "        if amount > user['balance']:\n",
    "            print(\"You don't have sufficient balance to make this widthdrawal\")\n",
    "        else:\n",
    "            user['balance'] = user['balance'] - amount\n",
    "            print(f\"{amount} Dollars successfully widthdrawn your remaining balance is {user['balance']} Dollars\")\n",
    "            print('')\n",
    "            return False\n",
    "\n",
    "def balance_enquiry():\n",
    "    print(f\"Total balance {user['balance']} Dollars\")\n",
    "    print('')\n",
    "\n",
    "\n",
    "is_quit = False\n",
    "\n",
    "print('')\n",
    "print(\"Welcome to the Pythondex ATM\")\n",
    "\n",
    "pin = int(input('Please enter your four digit pin: '))\n",
    "\n",
    "if pin == user['pin']:\n",
    "    while is_quit == False:\n",
    "        print(\"what do you want to do\")\n",
    "        print(\" Enter 1 to Widthdraw Cash \\n Enter 2 for Balance Enquiry \\n Enter 3 to Quit\")\n",
    "\n",
    "        query = int(input(\"Enter the number corresponding to the activity you want to do: \"))\n",
    "\n",
    "        if query == 1:\n",
    "            widthdraw_cash()\n",
    "        elif query == 2:\n",
    "            balance_enquiry()\n",
    "        elif query == 3:\n",
    "            is_quit = True\n",
    "\n",
    "        else:\n",
    "            print(\"Please enter a correct value shown\")\n",
    "else:\n",
    "    print(\"Entered wrong pin\")"
   ]
  },
  {
   "cell_type": "code",
   "execution_count": null,
   "id": "233276e8",
   "metadata": {},
   "outputs": [],
   "source": [
    "class Account:\n",
    "    def __init__(self, account_number, pin, balance):\n",
    "        self.account_number =7897\n",
    "        self.pin = 231\n",
    "        self.balance = 45612\n",
    "\n",
    "    def check_balance(self):\n",
    "        return self.balance\n",
    "\n",
    "    def deposit(self, amount):\n",
    "        self.balance += amount\n",
    "        return f\"Deposited {amount}. Current balance: {self.balance}\"\n",
    "\n",
    "    def withdraw(self, amount):\n",
    "        if self.balance >= amount:\n",
    "            self.balance -= amount\n",
    "            return f\"Withdrawn {amount}. Current balance: {self.balance}\"\n",
    "        else:\n",
    "            return \"Insufficient balance.\"\n",
    "\n",
    "    def change_pin(self, new_pin):\n",
    "        self.pin = new_pin\n",
    "        return \"PIN changed successfully.\"\n"
   ]
  },
  {
   "cell_type": "code",
   "execution_count": null,
   "id": "b9137439",
   "metadata": {},
   "outputs": [],
   "source": [
    "b1 = Account\n",
    "b1.check_balance()\n",
    "b1.deposit()\n",
    "b1.withdraw()\n"
   ]
  },
  {
   "cell_type": "code",
   "execution_count": null,
   "id": "d7c64079",
   "metadata": {
    "scrolled": true
   },
   "outputs": [],
   "source": [
    "pip install requests\n",
    "pip  install requests\n",
    "pip install seabron \n",
    "pip install numpy \n",
    "pip install pandas \n",
    "pip install pyplot\n",
    "\n"
   ]
  },
  {
   "cell_type": "code",
   "execution_count": null,
   "id": "9e3d009c",
   "metadata": {},
   "outputs": [],
   "source": [
    "import requests\n",
    "\n",
    "def download_file(url, destination_file):\n",
    "    try:\n",
    "        response = requests.get(url)\n",
    "        # Check if the request was successful (status code 200)\n",
    "        if response.status_code == 200:\n",
    "            # Open the file in binary write mode and save the content\n",
    "            with open(destination_file, 'wb') as file:\n",
    "                file.write(response.content)\n",
    "            print(f\"File downloaded successfully to: {destination_file}\")\n",
    "        else:\n",
    "            print(f\"Failed to download file. Status Code: {response.status_code}\")\n",
    "    except requests.RequestException as e:\n",
    "        print(f\"Error downloading file: {e}\")\n",
    "\n",
    "# Replace this URL with the actual API endpoint that provides the file\n",
    "api_url = \"https://example.com/api/file\"\n",
    "# Replace 'destination_file_name' with the desired name and extension of the downloaded file\n",
    "destination_file = \"destination_file_name.ext\"\n",
    "\n",
    "download_file(api_url, destination_file)\n"
   ]
  }
 ],
 "metadata": {
  "kernelspec": {
   "display_name": "Python 3 (ipykernel)",
   "language": "python",
   "name": "python3"
  },
  "language_info": {
   "codemirror_mode": {
    "name": "ipython",
    "version": 3
   },
   "file_extension": ".py",
   "mimetype": "text/x-python",
   "name": "python",
   "nbconvert_exporter": "python",
   "pygments_lexer": "ipython3",
   "version": "3.10.9"
  }
 },
 "nbformat": 4,
 "nbformat_minor": 5
}
